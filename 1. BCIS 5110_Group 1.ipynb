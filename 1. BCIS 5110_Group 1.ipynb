{
 "cells": [
  {
   "cell_type": "markdown",
   "metadata": {},
   "source": [
    "# BCIS 5110 - Group 1\n",
    "Nader Elkhatib - ID 11481825\n",
    "\n",
    "Olusoladegbin King - ID 11725681\n",
    "\n",
    "Lucas Silva - ID 11065496\n",
    "\n",
    "Akosua Sarpong - ID 11586413"
   ]
  },
  {
   "cell_type": "markdown",
   "metadata": {},
   "source": [
    "# Key Notes"
   ]
  },
  {
   "cell_type": "code",
   "execution_count": 1,
   "metadata": {},
   "outputs": [],
   "source": [
    "# Main Dataset:\n",
    "# https://www.kaggle.com/datasets/iamsouravbanerjee/customer-shopping-trends-dataset/\n",
    "# Shopping activity that entails various types of wearable cloths, purchase amounts, ways of payments, and much more features\n",
    "# Data types are a mix of categorical, numerical, and binary\n",
    "\n",
    "# Supplemental Dataset Source (US regions):\n",
    "# https://www.kaggle.com/datasets/omer2040/usa-states-to-region/\n",
    "# US states abbreviate codes and regions\n",
    "# Beneficial for certain analysis and functionality such as aggregation and searching via state code"
   ]
  },
  {
   "cell_type": "code",
   "execution_count": 2,
   "metadata": {},
   "outputs": [],
   "source": [
    "# Instructions & Guide\n",
    "# Save csv files in the same location of the script, otherwise adjust the paths under the Read File section\n",
    "# Question 6: User must input the state code for each state seeking info about, otherwise input \"E\" to terminate"
   ]
  },
  {
   "cell_type": "markdown",
   "metadata": {},
   "source": [
    "# Modules"
   ]
  },
  {
   "cell_type": "code",
   "execution_count": 3,
   "metadata": {},
   "outputs": [],
   "source": [
    "import numpy as np\n",
    "import matplotlib.pyplot as plt\n",
    "import pandas as pd\n",
    "import seaborn as sns\n",
    "import sys"
   ]
  },
  {
   "cell_type": "code",
   "execution_count": 4,
   "metadata": {},
   "outputs": [],
   "source": [
    "# Main Dataset\n",
    "data = pd.read_csv('shopping_trends.csv')"
   ]
  },
  {
   "cell_type": "code",
   "execution_count": 5,
   "metadata": {},
   "outputs": [],
   "source": [
    "# Use to label states in the dataset to their regions\n",
    "US_regions = pd.read_csv('states.csv')"
   ]
  },
  {
   "cell_type": "markdown",
   "metadata": {},
   "source": [
    "# Data Exploration & Enriching"
   ]
  },
  {
   "cell_type": "code",
   "execution_count": 6,
   "metadata": {},
   "outputs": [
    {
     "name": "stdout",
     "output_type": "stream",
     "text": [
      "Rows = 3900\n",
      "Columns = 19\n"
     ]
    }
   ],
   "source": [
    "# Dataset Shape\n",
    "print(f'Rows = {data.shape[0]}')\n",
    "print(f'Columns = {data.shape[1]}')"
   ]
  },
  {
   "cell_type": "code",
   "execution_count": 7,
   "metadata": {},
   "outputs": [
    {
     "data": {
      "text/plain": [
       "State         0\n",
       "State Code    0\n",
       "Region        0\n",
       "Division      0\n",
       "dtype: int64"
      ]
     },
     "execution_count": 7,
     "metadata": {},
     "output_type": "execute_result"
    }
   ],
   "source": [
    "# Missing Values in the supplemental dataset\n",
    "# dataset is used to label states in the main dataset with their respective regions\n",
    "US_regions.isnull().sum()"
   ]
  },
  {
   "cell_type": "code",
   "execution_count": 8,
   "metadata": {},
   "outputs": [],
   "source": [
    "# Change name to enable merge\n",
    "US_regions = US_regions.rename(columns={'State': 'Location'})"
   ]
  },
  {
   "cell_type": "code",
   "execution_count": 9,
   "metadata": {},
   "outputs": [],
   "source": [
    "# Merge to obtain US states attributes such as region and state abbreviation\n",
    "data = data.merge(US_regions, how='left', on='Location')"
   ]
  },
  {
   "cell_type": "code",
   "execution_count": 10,
   "metadata": {},
   "outputs": [
    {
     "data": {
      "text/plain": [
       "Customer ID                 0\n",
       "Age                         0\n",
       "Gender                      0\n",
       "Item Purchased              0\n",
       "Category                    0\n",
       "Purchase Amount (USD)       0\n",
       "Location                    0\n",
       "Size                        0\n",
       "Color                       0\n",
       "Season                      0\n",
       "Review Rating               0\n",
       "Subscription Status         0\n",
       "Payment Method              0\n",
       "Shipping Type               0\n",
       "Discount Applied            0\n",
       "Promo Code Used             0\n",
       "Previous Purchases          0\n",
       "Preferred Payment Method    0\n",
       "Frequency of Purchases      0\n",
       "State Code                  0\n",
       "Region                      0\n",
       "Division                    0\n",
       "dtype: int64"
      ]
     },
     "execution_count": 10,
     "metadata": {},
     "output_type": "execute_result"
    }
   ],
   "source": [
    "# Check for missing values per column\n",
    "data.isnull().sum()"
   ]
  },
  {
   "cell_type": "markdown",
   "metadata": {},
   "source": [
    "## Apply missing values per project instructions"
   ]
  },
  {
   "cell_type": "code",
   "execution_count": 11,
   "metadata": {},
   "outputs": [],
   "source": [
    "np.random.seed(0)\n",
    "# masking\n",
    "data[np.random.random(size=data.shape) > 0.9] = np.nan"
   ]
  },
  {
   "cell_type": "code",
   "execution_count": 12,
   "metadata": {},
   "outputs": [
    {
     "name": "stdout",
     "output_type": "stream",
     "text": [
      "<class 'pandas.core.frame.DataFrame'>\n",
      "Int64Index: 3900 entries, 0 to 3899\n",
      "Data columns (total 22 columns):\n",
      " #   Column                    Non-Null Count  Dtype  \n",
      "---  ------                    --------------  -----  \n",
      " 0   Customer ID               3519 non-null   float64\n",
      " 1   Age                       3512 non-null   float64\n",
      " 2   Gender                    3531 non-null   object \n",
      " 3   Item Purchased            3505 non-null   object \n",
      " 4   Category                  3502 non-null   object \n",
      " 5   Purchase Amount (USD)     3487 non-null   float64\n",
      " 6   Location                  3508 non-null   object \n",
      " 7   Size                      3532 non-null   object \n",
      " 8   Color                     3509 non-null   object \n",
      " 9   Season                    3523 non-null   object \n",
      " 10  Review Rating             3515 non-null   float64\n",
      " 11  Subscription Status       3507 non-null   object \n",
      " 12  Payment Method            3518 non-null   object \n",
      " 13  Shipping Type             3548 non-null   object \n",
      " 14  Discount Applied          3478 non-null   object \n",
      " 15  Promo Code Used           3507 non-null   object \n",
      " 16  Previous Purchases        3493 non-null   float64\n",
      " 17  Preferred Payment Method  3484 non-null   object \n",
      " 18  Frequency of Purchases    3521 non-null   object \n",
      " 19  State Code                3491 non-null   object \n",
      " 20  Region                    3541 non-null   object \n",
      " 21  Division                  3529 non-null   object \n",
      "dtypes: float64(5), object(17)\n",
      "memory usage: 700.8+ KB\n"
     ]
    }
   ],
   "source": [
    "# Verification randomly applied missing values\n",
    "# Non-Null Count not the same across the board\n",
    "data.info()"
   ]
  },
  {
   "cell_type": "code",
   "execution_count": 13,
   "metadata": {},
   "outputs": [
    {
     "data": {
      "text/plain": [
       "Customer ID                 381\n",
       "Age                         388\n",
       "Gender                      369\n",
       "Item Purchased              395\n",
       "Category                    398\n",
       "Purchase Amount (USD)       413\n",
       "Location                    392\n",
       "Size                        368\n",
       "Color                       391\n",
       "Season                      377\n",
       "Review Rating               385\n",
       "Subscription Status         393\n",
       "Payment Method              382\n",
       "Shipping Type               352\n",
       "Discount Applied            422\n",
       "Promo Code Used             393\n",
       "Previous Purchases          407\n",
       "Preferred Payment Method    416\n",
       "Frequency of Purchases      379\n",
       "State Code                  409\n",
       "Region                      359\n",
       "Division                    371\n",
       "dtype: int64"
      ]
     },
     "execution_count": 13,
     "metadata": {},
     "output_type": "execute_result"
    }
   ],
   "source": [
    "# total missing values per feature\n",
    "data.isnull().sum()"
   ]
  },
  {
   "cell_type": "markdown",
   "metadata": {},
   "source": [
    "# Address Missing Values"
   ]
  },
  {
   "cell_type": "code",
   "execution_count": 14,
   "metadata": {},
   "outputs": [],
   "source": [
    "# Fill in with the prior value\n",
    "data = data.fillna(method='ffill')"
   ]
  },
  {
   "cell_type": "code",
   "execution_count": 15,
   "metadata": {},
   "outputs": [
    {
     "data": {
      "text/plain": [
       "Customer ID                 0\n",
       "Age                         0\n",
       "Gender                      0\n",
       "Item Purchased              0\n",
       "Category                    0\n",
       "Purchase Amount (USD)       0\n",
       "Location                    0\n",
       "Size                        0\n",
       "Color                       1\n",
       "Season                      0\n",
       "Review Rating               0\n",
       "Subscription Status         0\n",
       "Payment Method              0\n",
       "Shipping Type               1\n",
       "Discount Applied            0\n",
       "Promo Code Used             0\n",
       "Previous Purchases          0\n",
       "Preferred Payment Method    0\n",
       "Frequency of Purchases      0\n",
       "State Code                  0\n",
       "Region                      1\n",
       "Division                    0\n",
       "dtype: int64"
      ]
     },
     "execution_count": 15,
     "metadata": {},
     "output_type": "execute_result"
    }
   ],
   "source": [
    "# Total missing values per feature\n",
    "# Possible there are remaining missing values because the 1st instance doesn't have a prior value to extract \n",
    "data.isnull().sum()"
   ]
  },
  {
   "cell_type": "code",
   "execution_count": 16,
   "metadata": {},
   "outputs": [],
   "source": [
    "# Fill in with the proceeding (next) value\n",
    "# Serves as assurance no missing values are left post applying forward fill (ffill)\n",
    "data = data.fillna(method='bfill')"
   ]
  },
  {
   "cell_type": "code",
   "execution_count": 17,
   "metadata": {},
   "outputs": [
    {
     "data": {
      "text/plain": [
       "Customer ID                 0\n",
       "Age                         0\n",
       "Gender                      0\n",
       "Item Purchased              0\n",
       "Category                    0\n",
       "Purchase Amount (USD)       0\n",
       "Location                    0\n",
       "Size                        0\n",
       "Color                       0\n",
       "Season                      0\n",
       "Review Rating               0\n",
       "Subscription Status         0\n",
       "Payment Method              0\n",
       "Shipping Type               0\n",
       "Discount Applied            0\n",
       "Promo Code Used             0\n",
       "Previous Purchases          0\n",
       "Preferred Payment Method    0\n",
       "Frequency of Purchases      0\n",
       "State Code                  0\n",
       "Region                      0\n",
       "Division                    0\n",
       "dtype: int64"
      ]
     },
     "execution_count": 17,
     "metadata": {},
     "output_type": "execute_result"
    }
   ],
   "source": [
    "# Verification no missing values\n",
    "data.isnull().sum()"
   ]
  },
  {
   "cell_type": "markdown",
   "metadata": {},
   "source": [
    "# Question 1\n",
    "For each shipping group, which generation is it most used by?"
   ]
  },
  {
   "cell_type": "markdown",
   "metadata": {},
   "source": [
    "# Q1 Analysis\n",
    "The script utilizes pandas to categorize a dataset by age into four generations: Boomers, Generation X, Millennials, and Generation Z. Filtering by age range is leveraged to identify the instances belonging to each generation.\n",
    "Grouping by payment method and the counting of instances was applied, and then a final dataframe presenting the count of instances for each payment method & generation pair is presented. This analysis provides insights into the distribution of shipping preferences among different age groups.\n",
    "\n",
    "An interesting observation is Millennials own the most count of instances across most of the payment methods"
   ]
  },
  {
   "cell_type": "code",
   "execution_count": 18,
   "metadata": {},
   "outputs": [],
   "source": [
    "# Retain key features\n",
    "age_payment  = data[['Age', 'Payment Method']]"
   ]
  },
  {
   "cell_type": "code",
   "execution_count": 19,
   "metadata": {},
   "outputs": [],
   "source": [
    "#Sort Generation Boomers data\n",
    "boomers_data =age_payment[(age_payment['Age'] >= 59) & (age_payment ['Age'] <=77)]\n",
    "boomers_count = boomers_data.groupby (['Payment Method']).count()"
   ]
  },
  {
   "cell_type": "code",
   "execution_count": 20,
   "metadata": {},
   "outputs": [],
   "source": [
    "#sort Generation X\n",
    "genx_data =age_payment[(age_payment['Age'] >= 43) & (age_payment ['Age'] <=57)]\n",
    "genx_count = genx_data.groupby (['Payment Method']).count()"
   ]
  },
  {
   "cell_type": "code",
   "execution_count": 21,
   "metadata": {},
   "outputs": [],
   "source": [
    "#sort Millenials\n",
    "millennials_data =age_payment[(age_payment['Age'] >= 26) & (age_payment ['Age'] <=41)]\n",
    "millennials_count = millennials_data.groupby (['Payment Method']).count()"
   ]
  },
  {
   "cell_type": "code",
   "execution_count": 22,
   "metadata": {},
   "outputs": [],
   "source": [
    "#sort Generation Z\n",
    "genz_data =age_payment[(age_payment['Age'] >= 11) & (age_payment ['Age'] <=26)]\n",
    "genz_count = genz_data.groupby (['Payment Method']).count()"
   ]
  },
  {
   "cell_type": "code",
   "execution_count": 23,
   "metadata": {},
   "outputs": [
    {
     "data": {
      "text/html": [
       "<div>\n",
       "<style scoped>\n",
       "    .dataframe tbody tr th:only-of-type {\n",
       "        vertical-align: middle;\n",
       "    }\n",
       "\n",
       "    .dataframe tbody tr th {\n",
       "        vertical-align: top;\n",
       "    }\n",
       "\n",
       "    .dataframe thead th {\n",
       "        text-align: right;\n",
       "    }\n",
       "</style>\n",
       "<table border=\"1\" class=\"dataframe\">\n",
       "  <thead>\n",
       "    <tr style=\"text-align: right;\">\n",
       "      <th></th>\n",
       "      <th>Boomers</th>\n",
       "      <th>Generation X</th>\n",
       "      <th>Millennials</th>\n",
       "      <th>Generation Z</th>\n",
       "    </tr>\n",
       "    <tr>\n",
       "      <th>Payment Method</th>\n",
       "      <th></th>\n",
       "      <th></th>\n",
       "      <th></th>\n",
       "      <th></th>\n",
       "    </tr>\n",
       "  </thead>\n",
       "  <tbody>\n",
       "    <tr>\n",
       "      <th>Bank Transfer</th>\n",
       "      <td>134</td>\n",
       "      <td>176</td>\n",
       "      <td>187</td>\n",
       "      <td>102</td>\n",
       "    </tr>\n",
       "    <tr>\n",
       "      <th>Cash</th>\n",
       "      <td>143</td>\n",
       "      <td>179</td>\n",
       "      <td>193</td>\n",
       "      <td>108</td>\n",
       "    </tr>\n",
       "    <tr>\n",
       "      <th>Credit Card</th>\n",
       "      <td>164</td>\n",
       "      <td>212</td>\n",
       "      <td>219</td>\n",
       "      <td>99</td>\n",
       "    </tr>\n",
       "    <tr>\n",
       "      <th>Debit Card</th>\n",
       "      <td>128</td>\n",
       "      <td>198</td>\n",
       "      <td>198</td>\n",
       "      <td>110</td>\n",
       "    </tr>\n",
       "    <tr>\n",
       "      <th>PayPal</th>\n",
       "      <td>134</td>\n",
       "      <td>177</td>\n",
       "      <td>180</td>\n",
       "      <td>126</td>\n",
       "    </tr>\n",
       "    <tr>\n",
       "      <th>Venmo</th>\n",
       "      <td>156</td>\n",
       "      <td>168</td>\n",
       "      <td>208</td>\n",
       "      <td>99</td>\n",
       "    </tr>\n",
       "  </tbody>\n",
       "</table>\n",
       "</div>"
      ],
      "text/plain": [
       "                Boomers  Generation X  Millennials  Generation Z\n",
       "Payment Method                                                  \n",
       "Bank Transfer       134           176          187           102\n",
       "Cash                143           179          193           108\n",
       "Credit Card         164           212          219            99\n",
       "Debit Card          128           198          198           110\n",
       "PayPal              134           177          180           126\n",
       "Venmo               156           168          208            99"
      ]
     },
     "execution_count": 23,
     "metadata": {},
     "output_type": "execute_result"
    }
   ],
   "source": [
    "# Results - Combine all into one dataframe\n",
    "result_payment = pd.concat([boomers_count, genx_count, millennials_count, genz_count], axis=1)\n",
    "result_payment.columns = ['Boomers', 'Generation X', 'Millennials', 'Generation Z']\n",
    "result_payment"
   ]
  },
  {
   "cell_type": "code",
   "execution_count": 24,
   "metadata": {},
   "outputs": [
    {
     "data": {
      "text/plain": [
       "Payment Method\n",
       "Bank Transfer    187\n",
       "Cash             193\n",
       "Credit Card      219\n",
       "Debit Card       198\n",
       "PayPal           180\n",
       "Venmo            208\n",
       "dtype: int64"
      ]
     },
     "execution_count": 24,
     "metadata": {},
     "output_type": "execute_result"
    }
   ],
   "source": [
    "# Max value per each index (row)\n",
    "result_payment.max(axis=1)"
   ]
  },
  {
   "cell_type": "code",
   "execution_count": 25,
   "metadata": {},
   "outputs": [
    {
     "data": {
      "text/plain": [
       "Payment Method\n",
       "Bank Transfer     Millennials\n",
       "Cash              Millennials\n",
       "Credit Card       Millennials\n",
       "Debit Card       Generation X\n",
       "PayPal            Millennials\n",
       "Venmo             Millennials\n",
       "dtype: object"
      ]
     },
     "execution_count": 25,
     "metadata": {},
     "output_type": "execute_result"
    }
   ],
   "source": [
    "# Output the index associated with the max value for each column\n",
    "# example: Bank \n",
    "result_payment.idxmax(axis=1)"
   ]
  },
  {
   "cell_type": "markdown",
   "metadata": {},
   "source": [
    "# Question 2\n",
    "For each category, what is the preferred payment method and most common color?"
   ]
  },
  {
   "cell_type": "markdown",
   "metadata": {},
   "source": [
    "# Q2 Analysis\n",
    "This code provides a concise summary of the most prevalent payment method and color within each category. It's useful for gaining insights into consumer preferences within different product categories.\n",
    "\n",
    "We are able to see the results of both the most common payment methods and colors for each category of items purchased. Our main categories are clothing, outerwear, footwear and accessories. Credit card seems to be a popular payment method across the board and it is interesting to see the different colors that buyers choose."
   ]
  },
  {
   "cell_type": "code",
   "execution_count": 26,
   "metadata": {},
   "outputs": [
    {
     "name": "stdout",
     "output_type": "stream",
     "text": [
      "      Category Payment Method   Color\n",
      "0  Accessories    Credit Card   Olive\n",
      "1     Clothing    Credit Card  Orange\n",
      "2     Footwear         PayPal    Pink\n",
      "3    Outerwear           Cash   Olive\n"
     ]
    }
   ],
   "source": [
    "#Fulfilling one of the requirements for  Pandas Functions(GroupBy)- For question 2: For each category, what is the preferred payment method and most common color\n",
    "\n",
    "# Group by 'Category' and find the preferred payment method and most common color for each category\n",
    "result = data.groupby('Category').agg({\n",
    "    'Payment Method': lambda x: x.mode().iloc[0],  # Most common payment method\n",
    "    'Color': lambda x: x.mode().iloc[0]  # Most common color\n",
    "}).reset_index()\n",
    "\n",
    "print(result)\n"
   ]
  },
  {
   "cell_type": "markdown",
   "metadata": {},
   "source": [
    "# Question 3\n",
    "What is the distribution of review rating for people over 40 and under 40?"
   ]
  },
  {
   "cell_type": "markdown",
   "metadata": {},
   "source": [
    "# Q3 Analysis\n",
    "The code begins by filtering the dataset into two subsets: 'over_40' for people over 40 years old and 'under_40' for people 40 years old or younger. This allows for a specific focus on these age groups. The code results in a visual representation(histogram) of review ratings(ranging from 2.5 to 5). The histograms show us that 4.0 is the most common rating in both groups. \n",
    "\n",
    "Overall, this code facilitates a visual exploration of the distribution of review ratings, allowing for an age-based comparison that can inform business decisions and strategies."
   ]
  },
  {
   "cell_type": "code",
   "execution_count": 27,
   "metadata": {},
   "outputs": [
    {
     "data": {
      "image/png": "[encoded data removed]",
      "text/plain": [
       "<Figure size 864x432 with 2 Axes>"
      ]
     },
     "metadata": {
      "needs_background": "light"
     },
     "output_type": "display_data"
    }
   ],
   "source": [
    "#Fulfilling Data Visualization: For question 3: What is the distribution of review rating for people over 40 and under 40\n",
    "\n",
    "# Using'Age' and 'Review Rating' columns \n",
    "# Filter data for people over 40 and under 40\n",
    "over_40 = data[data['Age'] > 40]\n",
    "under_40 = data[data['Age'] <= 40]\n",
    "\n",
    "#Use histograms to plot for review ratings\n",
    "plt.figure(figsize=(12, 6))\n",
    "\n",
    "plt.subplot(1, 2, 1)\n",
    "sns.histplot(over_40['Review Rating'], bins=10, kde=True, color='blue')\n",
    "plt.title('Review Ratings - Over 40')\n",
    "\n",
    "plt.subplot(1, 2, 2)\n",
    "sns.histplot(under_40['Review Rating'], bins=10, kde=True, color='green')\n",
    "plt.title('Review Ratings - Under 40')\n",
    "\n",
    "plt.tight_layout()\n",
    "plt.show()"
   ]
  },
  {
   "cell_type": "markdown",
   "metadata": {},
   "source": [
    "# Question 4\n",
    "For each season, what is the average purchase amount and the most common size among customers with a subscription?"
   ]
  },
  {
   "cell_type": "markdown",
   "metadata": {},
   "source": [
    "# Q4 Analysis\n",
    "This code begins with a conditional statement that answers the question: Does the customer have a subscription? This code allows you to analyze the purchasing behavior of customers with a subscription during different seasons. You can identify trends, preferences, and variations in average purchase amount and size across seasons.\n",
    "\n",
    "The results show the average purchase amount in USD and the most common customer-chosen sizes for items in each season. It is interesting to see that Medium is the most common size purchased all year round. "
   ]
  },
  {
   "cell_type": "code",
   "execution_count": 28,
   "metadata": {},
   "outputs": [
    {
     "name": "stdout",
     "output_type": "stream",
     "text": [
      "   Season  Purchase Amount (USD) Size\n",
      "0    Fall              61.724265    M\n",
      "1  Spring              59.136531    M\n",
      "2  Summer              56.707407    M\n",
      "3  Winter              60.837500    M\n"
     ]
    }
   ],
   "source": [
    "# Fulfilling Conditional statement requirement - For Question 4: For each season, what is the average purchase amount and the most common size among customers with a subscription\n",
    "\n",
    "# Filter customers with a subscription - conditional statement to filter for only those with a subscritption \n",
    "subscribed_customers = data[data['Subscription Status'] == 'Yes']\n",
    "\n",
    "# Group by 'Season' and calculate average purchase amount and most common size\n",
    "result = subscribed_customers.groupby('Season').agg({\n",
    "  'Purchase Amount (USD)': 'mean',  # Average purchase amount\n",
    "    'Size': lambda x: x.mode().iloc[0]  # Most common size\n",
    "}).reset_index()\n",
    "print(result)"
   ]
  },
  {
   "cell_type": "markdown",
   "metadata": {},
   "source": [
    "# Question 5\n",
    "What are the top 5 items purchased with a discount and without a discount?"
   ]
  },
  {
   "cell_type": "markdown",
   "metadata": {},
   "source": [
    "# Q5 Analysis\n",
    "Jewelry is the top item purchased with a discount. Speculation is jewelry purchase price is one of the highest (if not the highest) since the material to produce jewelry is usually higher in cost than other items' materials, therefore jewelry becomes more attractive to customers when a discount is applied.\n",
    "\n",
    "Blouse and Socks tied for the top item purchased without a discount, these are essentials for everyday life therefore customers will not purchase immediately and speculation is their purchase prices are low naturally"
   ]
  },
  {
   "cell_type": "code",
   "execution_count": 29,
   "metadata": {},
   "outputs": [],
   "source": [
    "def discount_top (discount):\n",
    "    '''\n",
    "    Input: 'Yes' or 'No', 'Yes' means a discount is applied, 'No' is no discount applied\n",
    "    Output: Top 5 items purchased either with a discount or without a discount\n",
    "    Description: \n",
    "    Count of instances of items whether a discount is applied or not\n",
    "    Only output the top 5 items\n",
    "    If input is other than 'Yes' or 'No', function will terminate and output an error message\n",
    "    Example:\n",
    "    When the input is 'Yes', then a dataframe of the 5 items with highest instance count will output\n",
    "    '''\n",
    "    # filter for discount applied Yes or No, based on input\n",
    "    data_discount = data.loc[data['Discount Applied'] == discount]\n",
    "    \n",
    "   # Groupby item & count\n",
    "    data_discount_item_count = data_discount.groupby(['Item Purchased'])\n",
    "    data_discount_item_count= data_discount_item_count.count()\n",
    "    data_discount_item_count = data_discount_item_count[['Customer ID']]\n",
    "    \n",
    "    # Revert index back to features to ease readability\n",
    "    data_discount_item_count = data_discount_item_count.reset_index()\n",
    "    \n",
    "    # Descending sorting\n",
    "    data_discount_item_count = data_discount_item_count.sort_values(['Customer ID'], ascending=False)\n",
    "    \n",
    "    # Rename for clarity\n",
    "    data_discount_item_count = data_discount_item_count.rename(columns={'Customer ID': 'Instance Count'})\n",
    "    \n",
    "    # For the statement output\n",
    "    # exit function will output an error message and terminate the function\n",
    "    if discount == 'Yes':\n",
    "        discount_applicable = 'with'\n",
    "    elif discount == 'No':\n",
    "        discount_applicable = 'without'\n",
    "    else:\n",
    "        sys.exit('Must input Yes or No')\n",
    "    \n",
    "    print(f'Top 5 items purchased {discount_applicable} discount are:')\n",
    "    return data_discount_item_count.head()"
   ]
  },
  {
   "cell_type": "code",
   "execution_count": 30,
   "metadata": {},
   "outputs": [
    {
     "name": "stdout",
     "output_type": "stream",
     "text": [
      "Top 5 items purchased with discount are:\n"
     ]
    },
    {
     "data": {
      "text/html": [
       "<div>\n",
       "<style scoped>\n",
       "    .dataframe tbody tr th:only-of-type {\n",
       "        vertical-align: middle;\n",
       "    }\n",
       "\n",
       "    .dataframe tbody tr th {\n",
       "        vertical-align: top;\n",
       "    }\n",
       "\n",
       "    .dataframe thead th {\n",
       "        text-align: right;\n",
       "    }\n",
       "</style>\n",
       "<table border=\"1\" class=\"dataframe\">\n",
       "  <thead>\n",
       "    <tr style=\"text-align: right;\">\n",
       "      <th></th>\n",
       "      <th>Item Purchased</th>\n",
       "      <th>Instance Count</th>\n",
       "    </tr>\n",
       "  </thead>\n",
       "  <tbody>\n",
       "    <tr>\n",
       "      <th>12</th>\n",
       "      <td>Jewelry</td>\n",
       "      <td>82</td>\n",
       "    </tr>\n",
       "    <tr>\n",
       "      <th>8</th>\n",
       "      <td>Hat</td>\n",
       "      <td>78</td>\n",
       "    </tr>\n",
       "    <tr>\n",
       "      <th>13</th>\n",
       "      <td>Pants</td>\n",
       "      <td>78</td>\n",
       "    </tr>\n",
       "    <tr>\n",
       "      <th>4</th>\n",
       "      <td>Coat</td>\n",
       "      <td>77</td>\n",
       "    </tr>\n",
       "    <tr>\n",
       "      <th>5</th>\n",
       "      <td>Dress</td>\n",
       "      <td>75</td>\n",
       "    </tr>\n",
       "  </tbody>\n",
       "</table>\n",
       "</div>"
      ],
      "text/plain": [
       "   Item Purchased  Instance Count\n",
       "12        Jewelry              82\n",
       "8             Hat              78\n",
       "13          Pants              78\n",
       "4            Coat              77\n",
       "5           Dress              75"
      ]
     },
     "execution_count": 30,
     "metadata": {},
     "output_type": "execute_result"
    }
   ],
   "source": [
    "# Top 5 items with a discount\n",
    "discount_top ('Yes')"
   ]
  },
  {
   "cell_type": "code",
   "execution_count": 31,
   "metadata": {},
   "outputs": [
    {
     "name": "stdout",
     "output_type": "stream",
     "text": [
      "Top 5 items purchased without discount are:\n"
     ]
    },
    {
     "data": {
      "text/html": [
       "<div>\n",
       "<style scoped>\n",
       "    .dataframe tbody tr th:only-of-type {\n",
       "        vertical-align: middle;\n",
       "    }\n",
       "\n",
       "    .dataframe tbody tr th {\n",
       "        vertical-align: top;\n",
       "    }\n",
       "\n",
       "    .dataframe thead th {\n",
       "        text-align: right;\n",
       "    }\n",
       "</style>\n",
       "<table border=\"1\" class=\"dataframe\">\n",
       "  <thead>\n",
       "    <tr style=\"text-align: right;\">\n",
       "      <th></th>\n",
       "      <th>Item Purchased</th>\n",
       "      <th>Instance Count</th>\n",
       "    </tr>\n",
       "  </thead>\n",
       "  <tbody>\n",
       "    <tr>\n",
       "      <th>2</th>\n",
       "      <td>Blouse</td>\n",
       "      <td>110</td>\n",
       "    </tr>\n",
       "    <tr>\n",
       "      <th>21</th>\n",
       "      <td>Socks</td>\n",
       "      <td>110</td>\n",
       "    </tr>\n",
       "    <tr>\n",
       "      <th>10</th>\n",
       "      <td>Jacket</td>\n",
       "      <td>103</td>\n",
       "    </tr>\n",
       "    <tr>\n",
       "      <th>16</th>\n",
       "      <td>Shirt</td>\n",
       "      <td>99</td>\n",
       "    </tr>\n",
       "    <tr>\n",
       "      <th>12</th>\n",
       "      <td>Jewelry</td>\n",
       "      <td>97</td>\n",
       "    </tr>\n",
       "  </tbody>\n",
       "</table>\n",
       "</div>"
      ],
      "text/plain": [
       "   Item Purchased  Instance Count\n",
       "2          Blouse             110\n",
       "21          Socks             110\n",
       "10         Jacket             103\n",
       "16          Shirt              99\n",
       "12        Jewelry              97"
      ]
     },
     "execution_count": 31,
     "metadata": {},
     "output_type": "execute_result"
    }
   ],
   "source": [
    "# Top 5 items without a discount\n",
    "discount_top ('No')"
   ]
  },
  {
   "cell_type": "markdown",
   "metadata": {},
   "source": [
    "# Question 6\n",
    "What is the most item purchased and its average purchase amount for selected states?\n",
    "\n",
    "Also, what is the count of instances (items purchased) per region?"
   ]
  },
  {
   "cell_type": "markdown",
   "metadata": {},
   "source": [
    "# Q6 Analysis\n",
    "Most item purchased per selected states:\n",
    "* States selected for the following analysis are IL, FL, TX, OR, & NY (user can input any state)\n",
    "* Most occurring Item Purchased for FL is coat, this is unexpected because of its non-cold climate all year long. In addition, the coat's average Purchase Amount is lower than NY's top item's average Purchase Amount, which is a shirt. A shirt's purchase amount should be lower because it costs signficantly less to manufacture than a coat.\n",
    "* IL most purchased item is a shirt even though it is known to have cold / cool climate for majority of the year, blouse or coat would make more sense.\n",
    "\n",
    "------------------------------------------------------------------\n",
    "Count of instance per region:\n",
    "* South entails most purchased items (instance count) and the Northeast with the lowest, this can indicate growing (South) vs matured (Northeast) markets.\n"
   ]
  },
  {
   "cell_type": "markdown",
   "metadata": {},
   "source": [
    "### Most item purchased and its average purchase amount (revenue) per selected states"
   ]
  },
  {
   "cell_type": "code",
   "execution_count": 32,
   "metadata": {},
   "outputs": [],
   "source": [
    "# Methodology\n",
    "# (1) Count of instances per State and Item Purchased\n",
    "# (2) Aggregate Purchase Amount (revenue) per State and Item Purchased\n",
    "# (3) Merge (1) and (2)\n",
    "# (4) Calculate Average Revenue (Purchase Amount) per State and Item Purchased\n",
    "# (5) For every selected state, output:\n",
    "## A. Most purchased item\n",
    "## B. Average revenue of the state's most purchased item"
   ]
  },
  {
   "cell_type": "code",
   "execution_count": 33,
   "metadata": {},
   "outputs": [],
   "source": [
    "# Instance count per State and Item Purchased\n",
    "data_item_count = data.groupby(['State Code', 'Item Purchased'])\n",
    "data_item_count = data_item_count.count()\n",
    "data_item_count = data_item_count[['Customer ID']]"
   ]
  },
  {
   "cell_type": "code",
   "execution_count": 34,
   "metadata": {},
   "outputs": [],
   "source": [
    "# Aggregate Purchase Amount (Revenue) per State and Item Purchased\n",
    "data_ST_item_revenue = data.groupby(['State Code', 'Item Purchased'])\n",
    "data_ST_item_revenue = data_ST_item_revenue.sum()\n",
    "data_ST_item_revenue = data_ST_item_revenue[['Purchase Amount (USD)']]"
   ]
  },
  {
   "cell_type": "code",
   "execution_count": 35,
   "metadata": {},
   "outputs": [],
   "source": [
    "# Merge Instance Count and Aggregate Purchase Amount grouped dataframes\n",
    "data_ST_item = data_item_count.merge(data_ST_item_revenue, how='outer', left_index=True, right_index=True)"
   ]
  },
  {
   "cell_type": "code",
   "execution_count": 36,
   "metadata": {},
   "outputs": [],
   "source": [
    "# Average Revenue (Purchase Amount) per State & Item\n",
    "data_ST_item['Average Purchase Amt'] = data_ST_item['Purchase Amount (USD)'] / data_ST_item['Customer ID'] "
   ]
  },
  {
   "cell_type": "code",
   "execution_count": 37,
   "metadata": {},
   "outputs": [],
   "source": [
    "# Revert index back to features to ease readability\n",
    "data_ST_item = data_ST_item.reset_index()"
   ]
  },
  {
   "cell_type": "code",
   "execution_count": 38,
   "metadata": {},
   "outputs": [],
   "source": [
    "# Rename features to clarify what they contain\n",
    "data_ST_item = data_ST_item.rename(columns = {'Customer ID': 'Instance Count'})"
   ]
  },
  {
   "cell_type": "code",
   "execution_count": 39,
   "metadata": {},
   "outputs": [
    {
     "name": "stdout",
     "output_type": "stream",
     "text": [
      "Input state abbreviation as 2 capitalized letters, otherwise input E to exit: IL\n",
      "State: IL | Item: Shirt | Instance Count: 10 | Average Purchase Amount of Item: 60.0\n",
      "\n",
      "Input state abbreviation as 2 capitalized letters, otherwise input E to exit: FL\n",
      "State: FL | Item: Coat | Instance Count: 6 | Average Purchase Amount of Item: 56.5\n",
      "\n",
      "Input state abbreviation as 2 capitalized letters, otherwise input E to exit: TX\n",
      "State: TX | Item: Shoes | Instance Count: 7 | Average Purchase Amount of Item: 56.42857142857143\n",
      "\n",
      "Input state abbreviation as 2 capitalized letters, otherwise input E to exit: OR\n",
      "State: OR | Item: Blouse | Instance Count: 6 | Average Purchase Amount of Item: 58.833333333333336\n",
      "\n",
      "Input state abbreviation as 2 capitalized letters, otherwise input E to exit: NY\n",
      "State: NY | Item: Shirt | Instance Count: 6 | Average Purchase Amount of Item: 59.833333333333336\n",
      "\n",
      "Input state abbreviation as 2 capitalized letters, otherwise input E to exit: E\n"
     ]
    }
   ],
   "source": [
    "# Function to output selected state's metrics - most item purchased and associated average revenue\n",
    "# Must enter as two letters in capital form\n",
    "# Enter E to exit\n",
    "\n",
    "state = input('Input state abbreviation as 2 capitalized letters, otherwise input E to exit: ')\n",
    "\n",
    "while state != 'E':\n",
    "\n",
    "    if state not in np.array(data_ST_item['State Code']):\n",
    "        print('State not found')\n",
    "        print()\n",
    "        state = input('Input state abbreviation as 2 capitalized letters, otherwise input E to exit: ')\n",
    "\n",
    "    else:\n",
    "        while state in np.array(data_ST_item['State Code']):\n",
    "            data_ST = data_ST_item.loc[data_ST_item['State Code'] == state]\n",
    "            data_ST = data_ST.sort_values(['Instance Count'], ascending=False)\n",
    "            data_ST_max = data_ST.head(1)\n",
    "            print(f'State: {data_ST_max.iloc[0,0]} | Item: {data_ST_max.iloc[0,1]} | Instance Count: {data_ST_max.iloc[0,2]} | Average Purchase Amount of Item: {data_ST_max.iloc[0,4]}')\n",
    "            print()\n",
    "            state = input('Input state abbreviation as 2 capitalized letters, otherwise input E to exit: ')\n",
    "        \n",
    "        while state == 'E':\n",
    "            break"
   ]
  },
  {
   "cell_type": "markdown",
   "metadata": {},
   "source": [
    "### Region level\n",
    "Count of instance is the equivalent to the count of items purchased"
   ]
  },
  {
   "cell_type": "code",
   "execution_count": 40,
   "metadata": {},
   "outputs": [],
   "source": [
    "# Methodology\n",
    "# Create numpy array of data's feature Region\n",
    "# Create 2D nump array of (1) Unique regions (2) Count of instances of each region\n",
    "# Visualize"
   ]
  },
  {
   "cell_type": "code",
   "execution_count": 41,
   "metadata": {},
   "outputs": [],
   "source": [
    "# Wrap the Region feature from the data df into a numpy array\n",
    "data_region_array = np.array(data['Region'])"
   ]
  },
  {
   "cell_type": "code",
   "execution_count": 42,
   "metadata": {},
   "outputs": [],
   "source": [
    "# Count of occurrences of each element\n",
    "# Count will be incorporated in a new dimension\n",
    "# 1st dimension will only display the unique regions\n",
    "\n",
    "data_region_array = np.unique(data_region_array, return_counts=True)"
   ]
  },
  {
   "cell_type": "code",
   "execution_count": 43,
   "metadata": {},
   "outputs": [
    {
     "data": {
      "image/png": "[encoded data removed]",
      "text/plain": [
       "<Figure size 432x288 with 1 Axes>"
      ]
     },
     "metadata": {
      "needs_background": "light"
     },
     "output_type": "display_data"
    },
    {
     "name": "stdout",
     "output_type": "stream",
     "text": [
      "Region: Midwest | Items Purchase Count = 941\n",
      "Region: Northeast | Items Purchase Count = 682\n",
      "Region: South | Items Purchase Count = 1278\n",
      "Region: West | Items Purchase Count = 999\n"
     ]
    }
   ],
   "source": [
    "# Visual of each region's instance count (aka items purchased)\n",
    "plt.bar(data_region_array[0], data_region_array[1])\n",
    "plt.xlabel('Region')\n",
    "plt.ylabel('Items Purchased Count')\n",
    "plt.title('Items Purchased per Region ')\n",
    "\n",
    "# Display values on bars\n",
    "# i is every element in x array\n",
    "# 2nd parameter: source of values\n",
    "# 3rd parameter: what to display\n",
    "for i in range(len(data_region_array[0])):\n",
    "    plt.text(i, data_region_array[1][i], data_region_array[1][i] )\n",
    "\n",
    "plt.show()\n",
    "\n",
    "\n",
    "# Alternative way to display each region's items purchased count\n",
    "i = 0\n",
    "n = 0\n",
    "\n",
    "while i < len(data_region_array[0]):\n",
    "    print(f'Region: {data_region_array[0][i]} | Items Purchase Count = {data_region_array[1][i]}')\n",
    "    i = i + 1"
   ]
  },
  {
   "cell_type": "markdown",
   "metadata": {},
   "source": [
    "# Question 7\n",
    "Which categories (wearable type) are most popular and least popular among each gender? Also, output the average purchase amount and average age for each identified instance\n",
    "\n",
    "Which items are most popular and least popular among each gender? Also, output the average purchase amount and average age for each identified instance"
   ]
  },
  {
   "cell_type": "markdown",
   "metadata": {},
   "source": [
    "# Q7 Analysis\n",
    "Clothing Category is most popular among each gender because it captured the most instances per gender, this is logical because the Clothing Category covers the most unique items.\n",
    "\n",
    "Although the clothing category was most popular among all genders, the most popular item purchased for the male gender was jewelry, which isn't part of the clothing category family.\n",
    "\n",
    "Average age across all analyses of this section seems constant, which doesn't reveal important information."
   ]
  },
  {
   "cell_type": "code",
   "execution_count": 44,
   "metadata": {},
   "outputs": [],
   "source": [
    "# Methodology\n",
    "# Gender - Category Level:\n",
    "# Count instances via grouping\n",
    "# Calculate average purchase amount and average age via grouping\n",
    "# Merge the two tables above\n",
    "# Descending sorting\n",
    "# Output the top instance and the bottom instance\n",
    "\n",
    "# Gender - Item level:\n",
    "# Same as Gender - Category level"
   ]
  },
  {
   "cell_type": "markdown",
   "metadata": {},
   "source": [
    "### Category (wearable type) per Gender"
   ]
  },
  {
   "cell_type": "code",
   "execution_count": 45,
   "metadata": {},
   "outputs": [],
   "source": [
    "# Count of category (wearable type) instances per gender\n",
    "data_gender_category_count = data.groupby(['Gender', 'Category'])\n",
    "data_gender_category_count = data_gender_category_count.count()\n",
    "data_gender_category_count = data_gender_category_count[['Customer ID']]\n",
    "# data_gender_category_count = data_gender_category_count.sort_values(['Customer ID'], ascending=False)"
   ]
  },
  {
   "cell_type": "code",
   "execution_count": 46,
   "metadata": {},
   "outputs": [],
   "source": [
    "# Reset index to flip current index to features\n",
    "data_gender_category_count = data_gender_category_count.reset_index()"
   ]
  },
  {
   "cell_type": "code",
   "execution_count": 47,
   "metadata": {},
   "outputs": [],
   "source": [
    "# Rename for clarity\n",
    "data_gender_category_count = data_gender_category_count.rename(columns={'Customer ID': 'Instance Count'})"
   ]
  },
  {
   "cell_type": "code",
   "execution_count": 48,
   "metadata": {},
   "outputs": [
    {
     "data": {
      "text/html": [
       "<div>\n",
       "<style scoped>\n",
       "    .dataframe tbody tr th:only-of-type {\n",
       "        vertical-align: middle;\n",
       "    }\n",
       "\n",
       "    .dataframe tbody tr th {\n",
       "        vertical-align: top;\n",
       "    }\n",
       "\n",
       "    .dataframe thead th {\n",
       "        text-align: right;\n",
       "    }\n",
       "</style>\n",
       "<table border=\"1\" class=\"dataframe\">\n",
       "  <thead>\n",
       "    <tr style=\"text-align: right;\">\n",
       "      <th></th>\n",
       "      <th>Gender</th>\n",
       "      <th>Category</th>\n",
       "      <th>Instance Count</th>\n",
       "    </tr>\n",
       "  </thead>\n",
       "  <tbody>\n",
       "    <tr>\n",
       "      <th>0</th>\n",
       "      <td>Female</td>\n",
       "      <td>Accessories</td>\n",
       "      <td>397</td>\n",
       "    </tr>\n",
       "    <tr>\n",
       "      <th>1</th>\n",
       "      <td>Female</td>\n",
       "      <td>Clothing</td>\n",
       "      <td>540</td>\n",
       "    </tr>\n",
       "    <tr>\n",
       "      <th>2</th>\n",
       "      <td>Female</td>\n",
       "      <td>Footwear</td>\n",
       "      <td>204</td>\n",
       "    </tr>\n",
       "    <tr>\n",
       "      <th>3</th>\n",
       "      <td>Female</td>\n",
       "      <td>Outerwear</td>\n",
       "      <td>107</td>\n",
       "    </tr>\n",
       "    <tr>\n",
       "      <th>4</th>\n",
       "      <td>Male</td>\n",
       "      <td>Accessories</td>\n",
       "      <td>852</td>\n",
       "    </tr>\n",
       "  </tbody>\n",
       "</table>\n",
       "</div>"
      ],
      "text/plain": [
       "   Gender     Category  Instance Count\n",
       "0  Female  Accessories             397\n",
       "1  Female     Clothing             540\n",
       "2  Female     Footwear             204\n",
       "3  Female    Outerwear             107\n",
       "4    Male  Accessories             852"
      ]
     },
     "execution_count": 48,
     "metadata": {},
     "output_type": "execute_result"
    }
   ],
   "source": [
    "# sample of df\n",
    "data_gender_category_count.head()"
   ]
  },
  {
   "cell_type": "code",
   "execution_count": 49,
   "metadata": {},
   "outputs": [],
   "source": [
    "# Average Age and Average Purchase Amount per Gender & Category\n",
    "data_gender_category_avg = data.groupby(['Gender', 'Category'])\n",
    "data_gender_category_avg = data_gender_category_avg.mean()\n",
    "data_gender_category_avg = data_gender_category_avg[['Age', 'Purchase Amount (USD)']]\n",
    "# data_gender_category_avg = data_gender_category_avg.sort_values(['Purchase Amount (USD)'], ascending=False)"
   ]
  },
  {
   "cell_type": "code",
   "execution_count": 50,
   "metadata": {},
   "outputs": [],
   "source": [
    "# Reset index to flip current index to features\n",
    "data_gender_category_avg = data_gender_category_avg.reset_index()"
   ]
  },
  {
   "cell_type": "code",
   "execution_count": 51,
   "metadata": {},
   "outputs": [],
   "source": [
    "# Rename for clarity\n",
    "data_gender_category_avg = data_gender_category_avg.rename(columns={'Age': 'Avg Age', \n",
    "                                                                   'Purchase Amount (USD)': 'Avg Purchase Amt'})"
   ]
  },
  {
   "cell_type": "code",
   "execution_count": 52,
   "metadata": {},
   "outputs": [
    {
     "data": {
      "text/html": [
       "<div>\n",
       "<style scoped>\n",
       "    .dataframe tbody tr th:only-of-type {\n",
       "        vertical-align: middle;\n",
       "    }\n",
       "\n",
       "    .dataframe tbody tr th {\n",
       "        vertical-align: top;\n",
       "    }\n",
       "\n",
       "    .dataframe thead th {\n",
       "        text-align: right;\n",
       "    }\n",
       "</style>\n",
       "<table border=\"1\" class=\"dataframe\">\n",
       "  <thead>\n",
       "    <tr style=\"text-align: right;\">\n",
       "      <th></th>\n",
       "      <th>Gender</th>\n",
       "      <th>Category</th>\n",
       "      <th>Avg Age</th>\n",
       "      <th>Avg Purchase Amt</th>\n",
       "    </tr>\n",
       "  </thead>\n",
       "  <tbody>\n",
       "    <tr>\n",
       "      <th>0</th>\n",
       "      <td>Female</td>\n",
       "      <td>Accessories</td>\n",
       "      <td>43.712846</td>\n",
       "      <td>61.392947</td>\n",
       "    </tr>\n",
       "    <tr>\n",
       "      <th>1</th>\n",
       "      <td>Female</td>\n",
       "      <td>Clothing</td>\n",
       "      <td>44.148148</td>\n",
       "      <td>60.083333</td>\n",
       "    </tr>\n",
       "    <tr>\n",
       "      <th>2</th>\n",
       "      <td>Female</td>\n",
       "      <td>Footwear</td>\n",
       "      <td>44.495098</td>\n",
       "      <td>60.215686</td>\n",
       "    </tr>\n",
       "    <tr>\n",
       "      <th>3</th>\n",
       "      <td>Female</td>\n",
       "      <td>Outerwear</td>\n",
       "      <td>44.130841</td>\n",
       "      <td>59.570093</td>\n",
       "    </tr>\n",
       "    <tr>\n",
       "      <th>4</th>\n",
       "      <td>Male</td>\n",
       "      <td>Accessories</td>\n",
       "      <td>44.052817</td>\n",
       "      <td>59.246479</td>\n",
       "    </tr>\n",
       "  </tbody>\n",
       "</table>\n",
       "</div>"
      ],
      "text/plain": [
       "   Gender     Category    Avg Age  Avg Purchase Amt\n",
       "0  Female  Accessories  43.712846         61.392947\n",
       "1  Female     Clothing  44.148148         60.083333\n",
       "2  Female     Footwear  44.495098         60.215686\n",
       "3  Female    Outerwear  44.130841         59.570093\n",
       "4    Male  Accessories  44.052817         59.246479"
      ]
     },
     "execution_count": 52,
     "metadata": {},
     "output_type": "execute_result"
    }
   ],
   "source": [
    "# sample of df\n",
    "data_gender_category_avg.head()"
   ]
  },
  {
   "cell_type": "code",
   "execution_count": 53,
   "metadata": {},
   "outputs": [],
   "source": [
    "# Merge count and average tables\n",
    "data_gender_category_metrics = data_gender_category_count.merge(data_gender_category_avg, how='outer', on =['Gender', 'Category'])"
   ]
  },
  {
   "cell_type": "code",
   "execution_count": 54,
   "metadata": {},
   "outputs": [],
   "source": [
    "# Sort by Gender then Instance Count\n",
    "data_gender_category_metrics = data_gender_category_metrics.sort_values(['Gender', 'Instance Count'], ascending=False)"
   ]
  },
  {
   "cell_type": "code",
   "execution_count": 55,
   "metadata": {},
   "outputs": [
    {
     "data": {
      "text/html": [
       "<div>\n",
       "<style scoped>\n",
       "    .dataframe tbody tr th:only-of-type {\n",
       "        vertical-align: middle;\n",
       "    }\n",
       "\n",
       "    .dataframe tbody tr th {\n",
       "        vertical-align: top;\n",
       "    }\n",
       "\n",
       "    .dataframe thead th {\n",
       "        text-align: right;\n",
       "    }\n",
       "</style>\n",
       "<table border=\"1\" class=\"dataframe\">\n",
       "  <thead>\n",
       "    <tr style=\"text-align: right;\">\n",
       "      <th></th>\n",
       "      <th>Gender</th>\n",
       "      <th>Category</th>\n",
       "      <th>Instance Count</th>\n",
       "      <th>Avg Age</th>\n",
       "      <th>Avg Purchase Amt</th>\n",
       "    </tr>\n",
       "  </thead>\n",
       "  <tbody>\n",
       "    <tr>\n",
       "      <th>5</th>\n",
       "      <td>Male</td>\n",
       "      <td>Clothing</td>\n",
       "      <td>1197</td>\n",
       "      <td>43.813701</td>\n",
       "      <td>58.997494</td>\n",
       "    </tr>\n",
       "    <tr>\n",
       "      <th>4</th>\n",
       "      <td>Male</td>\n",
       "      <td>Accessories</td>\n",
       "      <td>852</td>\n",
       "      <td>44.052817</td>\n",
       "      <td>59.246479</td>\n",
       "    </tr>\n",
       "    <tr>\n",
       "      <th>6</th>\n",
       "      <td>Male</td>\n",
       "      <td>Footwear</td>\n",
       "      <td>395</td>\n",
       "      <td>43.929114</td>\n",
       "      <td>60.318987</td>\n",
       "    </tr>\n",
       "    <tr>\n",
       "      <th>7</th>\n",
       "      <td>Male</td>\n",
       "      <td>Outerwear</td>\n",
       "      <td>208</td>\n",
       "      <td>44.480769</td>\n",
       "      <td>58.456731</td>\n",
       "    </tr>\n",
       "    <tr>\n",
       "      <th>1</th>\n",
       "      <td>Female</td>\n",
       "      <td>Clothing</td>\n",
       "      <td>540</td>\n",
       "      <td>44.148148</td>\n",
       "      <td>60.083333</td>\n",
       "    </tr>\n",
       "    <tr>\n",
       "      <th>0</th>\n",
       "      <td>Female</td>\n",
       "      <td>Accessories</td>\n",
       "      <td>397</td>\n",
       "      <td>43.712846</td>\n",
       "      <td>61.392947</td>\n",
       "    </tr>\n",
       "    <tr>\n",
       "      <th>2</th>\n",
       "      <td>Female</td>\n",
       "      <td>Footwear</td>\n",
       "      <td>204</td>\n",
       "      <td>44.495098</td>\n",
       "      <td>60.215686</td>\n",
       "    </tr>\n",
       "    <tr>\n",
       "      <th>3</th>\n",
       "      <td>Female</td>\n",
       "      <td>Outerwear</td>\n",
       "      <td>107</td>\n",
       "      <td>44.130841</td>\n",
       "      <td>59.570093</td>\n",
       "    </tr>\n",
       "  </tbody>\n",
       "</table>\n",
       "</div>"
      ],
      "text/plain": [
       "   Gender     Category  Instance Count    Avg Age  Avg Purchase Amt\n",
       "5    Male     Clothing            1197  43.813701         58.997494\n",
       "4    Male  Accessories             852  44.052817         59.246479\n",
       "6    Male     Footwear             395  43.929114         60.318987\n",
       "7    Male    Outerwear             208  44.480769         58.456731\n",
       "1  Female     Clothing             540  44.148148         60.083333\n",
       "0  Female  Accessories             397  43.712846         61.392947\n",
       "2  Female     Footwear             204  44.495098         60.215686\n",
       "3  Female    Outerwear             107  44.130841         59.570093"
      ]
     },
     "execution_count": 55,
     "metadata": {},
     "output_type": "execute_result"
    }
   ],
   "source": [
    "# Results\n",
    "data_gender_category_metrics"
   ]
  },
  {
   "cell_type": "code",
   "execution_count": 56,
   "metadata": {},
   "outputs": [],
   "source": [
    "# Male Category details\n",
    "data_male_category = data_gender_category_metrics.loc[data_gender_category_metrics['Gender'] == 'Male']\n",
    "data_male_category = data_male_category.sort_values(['Instance Count'], ascending=False)"
   ]
  },
  {
   "cell_type": "code",
   "execution_count": 57,
   "metadata": {},
   "outputs": [
    {
     "name": "stdout",
     "output_type": "stream",
     "text": [
      "Male Category with highest instance count along respective averages:\n"
     ]
    },
    {
     "data": {
      "text/html": [
       "<div>\n",
       "<style scoped>\n",
       "    .dataframe tbody tr th:only-of-type {\n",
       "        vertical-align: middle;\n",
       "    }\n",
       "\n",
       "    .dataframe tbody tr th {\n",
       "        vertical-align: top;\n",
       "    }\n",
       "\n",
       "    .dataframe thead th {\n",
       "        text-align: right;\n",
       "    }\n",
       "</style>\n",
       "<table border=\"1\" class=\"dataframe\">\n",
       "  <thead>\n",
       "    <tr style=\"text-align: right;\">\n",
       "      <th></th>\n",
       "      <th>Gender</th>\n",
       "      <th>Category</th>\n",
       "      <th>Instance Count</th>\n",
       "      <th>Avg Age</th>\n",
       "      <th>Avg Purchase Amt</th>\n",
       "    </tr>\n",
       "  </thead>\n",
       "  <tbody>\n",
       "    <tr>\n",
       "      <th>5</th>\n",
       "      <td>Male</td>\n",
       "      <td>Clothing</td>\n",
       "      <td>1197</td>\n",
       "      <td>43.813701</td>\n",
       "      <td>58.997494</td>\n",
       "    </tr>\n",
       "  </tbody>\n",
       "</table>\n",
       "</div>"
      ],
      "text/plain": [
       "  Gender  Category  Instance Count    Avg Age  Avg Purchase Amt\n",
       "5   Male  Clothing            1197  43.813701         58.997494"
      ]
     },
     "execution_count": 57,
     "metadata": {},
     "output_type": "execute_result"
    }
   ],
   "source": [
    "# Male Category most popular is the wearable type with the highest instance count\n",
    "print(\"Male Category with highest instance count along respective averages:\")\n",
    "data_male_category.head(1)"
   ]
  },
  {
   "cell_type": "code",
   "execution_count": 58,
   "metadata": {},
   "outputs": [
    {
     "name": "stdout",
     "output_type": "stream",
     "text": [
      "Male Category with lowest instance count along respective averages:\n"
     ]
    },
    {
     "data": {
      "text/html": [
       "<div>\n",
       "<style scoped>\n",
       "    .dataframe tbody tr th:only-of-type {\n",
       "        vertical-align: middle;\n",
       "    }\n",
       "\n",
       "    .dataframe tbody tr th {\n",
       "        vertical-align: top;\n",
       "    }\n",
       "\n",
       "    .dataframe thead th {\n",
       "        text-align: right;\n",
       "    }\n",
       "</style>\n",
       "<table border=\"1\" class=\"dataframe\">\n",
       "  <thead>\n",
       "    <tr style=\"text-align: right;\">\n",
       "      <th></th>\n",
       "      <th>Gender</th>\n",
       "      <th>Category</th>\n",
       "      <th>Instance Count</th>\n",
       "      <th>Avg Age</th>\n",
       "      <th>Avg Purchase Amt</th>\n",
       "    </tr>\n",
       "  </thead>\n",
       "  <tbody>\n",
       "    <tr>\n",
       "      <th>7</th>\n",
       "      <td>Male</td>\n",
       "      <td>Outerwear</td>\n",
       "      <td>208</td>\n",
       "      <td>44.480769</td>\n",
       "      <td>58.456731</td>\n",
       "    </tr>\n",
       "  </tbody>\n",
       "</table>\n",
       "</div>"
      ],
      "text/plain": [
       "  Gender   Category  Instance Count    Avg Age  Avg Purchase Amt\n",
       "7   Male  Outerwear             208  44.480769         58.456731"
      ]
     },
     "execution_count": 58,
     "metadata": {},
     "output_type": "execute_result"
    }
   ],
   "source": [
    "# Male Category least popular is the wearable type with the lowest instance count\n",
    "print(\"Male Category with lowest instance count along respective averages:\")\n",
    "data_male_category.tail(1)"
   ]
  },
  {
   "cell_type": "code",
   "execution_count": 59,
   "metadata": {},
   "outputs": [],
   "source": [
    "# Female Category details\n",
    "data_female_category = data_gender_category_metrics.loc[data_gender_category_metrics['Gender'] == 'Female']\n",
    "data_female_category = data_female_category.sort_values(['Instance Count'], ascending=False)"
   ]
  },
  {
   "cell_type": "code",
   "execution_count": 60,
   "metadata": {},
   "outputs": [
    {
     "name": "stdout",
     "output_type": "stream",
     "text": [
      "Female Category with highest instance count along respective averages:\n"
     ]
    },
    {
     "data": {
      "text/html": [
       "<div>\n",
       "<style scoped>\n",
       "    .dataframe tbody tr th:only-of-type {\n",
       "        vertical-align: middle;\n",
       "    }\n",
       "\n",
       "    .dataframe tbody tr th {\n",
       "        vertical-align: top;\n",
       "    }\n",
       "\n",
       "    .dataframe thead th {\n",
       "        text-align: right;\n",
       "    }\n",
       "</style>\n",
       "<table border=\"1\" class=\"dataframe\">\n",
       "  <thead>\n",
       "    <tr style=\"text-align: right;\">\n",
       "      <th></th>\n",
       "      <th>Gender</th>\n",
       "      <th>Category</th>\n",
       "      <th>Instance Count</th>\n",
       "      <th>Avg Age</th>\n",
       "      <th>Avg Purchase Amt</th>\n",
       "    </tr>\n",
       "  </thead>\n",
       "  <tbody>\n",
       "    <tr>\n",
       "      <th>1</th>\n",
       "      <td>Female</td>\n",
       "      <td>Clothing</td>\n",
       "      <td>540</td>\n",
       "      <td>44.148148</td>\n",
       "      <td>60.083333</td>\n",
       "    </tr>\n",
       "  </tbody>\n",
       "</table>\n",
       "</div>"
      ],
      "text/plain": [
       "   Gender  Category  Instance Count    Avg Age  Avg Purchase Amt\n",
       "1  Female  Clothing             540  44.148148         60.083333"
      ]
     },
     "execution_count": 60,
     "metadata": {},
     "output_type": "execute_result"
    }
   ],
   "source": [
    "# Female Category most popular is the wearable type with the highest instance count\n",
    "print(\"Female Category with highest instance count along respective averages:\")\n",
    "data_female_category.head(1)"
   ]
  },
  {
   "cell_type": "code",
   "execution_count": 61,
   "metadata": {},
   "outputs": [
    {
     "name": "stdout",
     "output_type": "stream",
     "text": [
      "Female Category with lowest instance count along respective averages:\n"
     ]
    },
    {
     "data": {
      "text/html": [
       "<div>\n",
       "<style scoped>\n",
       "    .dataframe tbody tr th:only-of-type {\n",
       "        vertical-align: middle;\n",
       "    }\n",
       "\n",
       "    .dataframe tbody tr th {\n",
       "        vertical-align: top;\n",
       "    }\n",
       "\n",
       "    .dataframe thead th {\n",
       "        text-align: right;\n",
       "    }\n",
       "</style>\n",
       "<table border=\"1\" class=\"dataframe\">\n",
       "  <thead>\n",
       "    <tr style=\"text-align: right;\">\n",
       "      <th></th>\n",
       "      <th>Gender</th>\n",
       "      <th>Category</th>\n",
       "      <th>Instance Count</th>\n",
       "      <th>Avg Age</th>\n",
       "      <th>Avg Purchase Amt</th>\n",
       "    </tr>\n",
       "  </thead>\n",
       "  <tbody>\n",
       "    <tr>\n",
       "      <th>3</th>\n",
       "      <td>Female</td>\n",
       "      <td>Outerwear</td>\n",
       "      <td>107</td>\n",
       "      <td>44.130841</td>\n",
       "      <td>59.570093</td>\n",
       "    </tr>\n",
       "  </tbody>\n",
       "</table>\n",
       "</div>"
      ],
      "text/plain": [
       "   Gender   Category  Instance Count    Avg Age  Avg Purchase Amt\n",
       "3  Female  Outerwear             107  44.130841         59.570093"
      ]
     },
     "execution_count": 61,
     "metadata": {},
     "output_type": "execute_result"
    }
   ],
   "source": [
    "# Female Category least popular is the wearable type with the lowest instance count\n",
    "print(\"Female Category with lowest instance count along respective averages:\")\n",
    "data_female_category.tail(1)"
   ]
  },
  {
   "cell_type": "code",
   "execution_count": 62,
   "metadata": {},
   "outputs": [],
   "source": [
    "# Count of items purchased per gender\n",
    "# More granular than the category-gender breakdown\n",
    "data_gender_item_count = data.groupby(['Gender', 'Item Purchased'])\n",
    "data_gender_item_count = data_gender_item_count.count()\n",
    "data_gender_item_count = data_gender_item_count[['Customer ID']]\n",
    "# data_gender_item_count = data_gender_item_count.sort_values(['Customer ID'], ascending=False)"
   ]
  },
  {
   "cell_type": "code",
   "execution_count": 63,
   "metadata": {},
   "outputs": [],
   "source": [
    "# Reset index to flip current index to features\n",
    "data_gender_item_count = data_gender_item_count.reset_index()"
   ]
  },
  {
   "cell_type": "code",
   "execution_count": 64,
   "metadata": {},
   "outputs": [],
   "source": [
    "# Rename for clarity\n",
    "data_gender_item_count = data_gender_item_count.rename(columns={'Customer ID': 'Instance Count'})"
   ]
  },
  {
   "cell_type": "code",
   "execution_count": 65,
   "metadata": {},
   "outputs": [
    {
     "data": {
      "text/html": [
       "<div>\n",
       "<style scoped>\n",
       "    .dataframe tbody tr th:only-of-type {\n",
       "        vertical-align: middle;\n",
       "    }\n",
       "\n",
       "    .dataframe tbody tr th {\n",
       "        vertical-align: top;\n",
       "    }\n",
       "\n",
       "    .dataframe thead th {\n",
       "        text-align: right;\n",
       "    }\n",
       "</style>\n",
       "<table border=\"1\" class=\"dataframe\">\n",
       "  <thead>\n",
       "    <tr style=\"text-align: right;\">\n",
       "      <th></th>\n",
       "      <th>Gender</th>\n",
       "      <th>Item Purchased</th>\n",
       "      <th>Instance Count</th>\n",
       "    </tr>\n",
       "  </thead>\n",
       "  <tbody>\n",
       "    <tr>\n",
       "      <th>0</th>\n",
       "      <td>Female</td>\n",
       "      <td>Backpack</td>\n",
       "      <td>38</td>\n",
       "    </tr>\n",
       "    <tr>\n",
       "      <th>1</th>\n",
       "      <td>Female</td>\n",
       "      <td>Belt</td>\n",
       "      <td>61</td>\n",
       "    </tr>\n",
       "    <tr>\n",
       "      <th>2</th>\n",
       "      <td>Female</td>\n",
       "      <td>Blouse</td>\n",
       "      <td>63</td>\n",
       "    </tr>\n",
       "    <tr>\n",
       "      <th>3</th>\n",
       "      <td>Female</td>\n",
       "      <td>Boots</td>\n",
       "      <td>46</td>\n",
       "    </tr>\n",
       "    <tr>\n",
       "      <th>4</th>\n",
       "      <td>Female</td>\n",
       "      <td>Coat</td>\n",
       "      <td>46</td>\n",
       "    </tr>\n",
       "  </tbody>\n",
       "</table>\n",
       "</div>"
      ],
      "text/plain": [
       "   Gender Item Purchased  Instance Count\n",
       "0  Female       Backpack              38\n",
       "1  Female           Belt              61\n",
       "2  Female         Blouse              63\n",
       "3  Female          Boots              46\n",
       "4  Female           Coat              46"
      ]
     },
     "execution_count": 65,
     "metadata": {},
     "output_type": "execute_result"
    }
   ],
   "source": [
    "# sample of df\n",
    "data_gender_item_count.head()"
   ]
  },
  {
   "cell_type": "code",
   "execution_count": 66,
   "metadata": {},
   "outputs": [],
   "source": [
    "# Average Age and Average Purchase Amount per Gender & Item Purchased\n",
    "data_gender_item_avg = data.groupby(['Gender', 'Item Purchased'])\n",
    "data_gender_item_avg = data_gender_item_avg.mean()\n",
    "data_gender_item_avg = data_gender_item_avg[['Age', 'Purchase Amount (USD)']]\n",
    "# data_gender_category_avg = data_gender_category_avg.sort_values(['Purchase Amount (USD)'], ascending=False)"
   ]
  },
  {
   "cell_type": "code",
   "execution_count": 67,
   "metadata": {},
   "outputs": [],
   "source": [
    "# Reset index to flip current index to features\n",
    "data_gender_item_avg = data_gender_item_avg.reset_index()"
   ]
  },
  {
   "cell_type": "code",
   "execution_count": 68,
   "metadata": {},
   "outputs": [],
   "source": [
    "# Rename for clarity\n",
    "data_gender_item_avg = data_gender_item_avg.rename(columns={'Age': 'Avg Age', \n",
    "                                                            'Purchase Amount (USD)': 'Avg Purchase Amt'})"
   ]
  },
  {
   "cell_type": "code",
   "execution_count": 69,
   "metadata": {},
   "outputs": [
    {
     "data": {
      "text/html": [
       "<div>\n",
       "<style scoped>\n",
       "    .dataframe tbody tr th:only-of-type {\n",
       "        vertical-align: middle;\n",
       "    }\n",
       "\n",
       "    .dataframe tbody tr th {\n",
       "        vertical-align: top;\n",
       "    }\n",
       "\n",
       "    .dataframe thead th {\n",
       "        text-align: right;\n",
       "    }\n",
       "</style>\n",
       "<table border=\"1\" class=\"dataframe\">\n",
       "  <thead>\n",
       "    <tr style=\"text-align: right;\">\n",
       "      <th></th>\n",
       "      <th>Gender</th>\n",
       "      <th>Item Purchased</th>\n",
       "      <th>Avg Age</th>\n",
       "      <th>Avg Purchase Amt</th>\n",
       "    </tr>\n",
       "  </thead>\n",
       "  <tbody>\n",
       "    <tr>\n",
       "      <th>0</th>\n",
       "      <td>Female</td>\n",
       "      <td>Backpack</td>\n",
       "      <td>41.342105</td>\n",
       "      <td>67.263158</td>\n",
       "    </tr>\n",
       "    <tr>\n",
       "      <th>1</th>\n",
       "      <td>Female</td>\n",
       "      <td>Belt</td>\n",
       "      <td>43.081967</td>\n",
       "      <td>58.131148</td>\n",
       "    </tr>\n",
       "    <tr>\n",
       "      <th>2</th>\n",
       "      <td>Female</td>\n",
       "      <td>Blouse</td>\n",
       "      <td>42.682540</td>\n",
       "      <td>59.603175</td>\n",
       "    </tr>\n",
       "    <tr>\n",
       "      <th>3</th>\n",
       "      <td>Female</td>\n",
       "      <td>Boots</td>\n",
       "      <td>41.434783</td>\n",
       "      <td>65.826087</td>\n",
       "    </tr>\n",
       "    <tr>\n",
       "      <th>4</th>\n",
       "      <td>Female</td>\n",
       "      <td>Coat</td>\n",
       "      <td>41.108696</td>\n",
       "      <td>60.652174</td>\n",
       "    </tr>\n",
       "  </tbody>\n",
       "</table>\n",
       "</div>"
      ],
      "text/plain": [
       "   Gender Item Purchased    Avg Age  Avg Purchase Amt\n",
       "0  Female       Backpack  41.342105         67.263158\n",
       "1  Female           Belt  43.081967         58.131148\n",
       "2  Female         Blouse  42.682540         59.603175\n",
       "3  Female          Boots  41.434783         65.826087\n",
       "4  Female           Coat  41.108696         60.652174"
      ]
     },
     "execution_count": 69,
     "metadata": {},
     "output_type": "execute_result"
    }
   ],
   "source": [
    "# sample of df\n",
    "data_gender_item_avg.head()"
   ]
  },
  {
   "cell_type": "code",
   "execution_count": 70,
   "metadata": {},
   "outputs": [],
   "source": [
    "# Merge count and average tables\n",
    "data_gender_item_metrics = data_gender_item_count.merge(data_gender_item_avg, how='outer', on =['Gender', 'Item Purchased'])"
   ]
  },
  {
   "cell_type": "code",
   "execution_count": 71,
   "metadata": {},
   "outputs": [],
   "source": [
    "# Sort by Gender then Instance Count\n",
    "data_gender_item_metrics = data_gender_item_metrics.sort_values(['Gender', 'Instance Count'], ascending=False)"
   ]
  },
  {
   "cell_type": "code",
   "execution_count": 72,
   "metadata": {},
   "outputs": [
    {
     "data": {
      "text/html": [
       "<div>\n",
       "<style scoped>\n",
       "    .dataframe tbody tr th:only-of-type {\n",
       "        vertical-align: middle;\n",
       "    }\n",
       "\n",
       "    .dataframe tbody tr th {\n",
       "        vertical-align: top;\n",
       "    }\n",
       "\n",
       "    .dataframe thead th {\n",
       "        text-align: right;\n",
       "    }\n",
       "</style>\n",
       "<table border=\"1\" class=\"dataframe\">\n",
       "  <thead>\n",
       "    <tr style=\"text-align: right;\">\n",
       "      <th></th>\n",
       "      <th>Gender</th>\n",
       "      <th>Item Purchased</th>\n",
       "      <th>Instance Count</th>\n",
       "      <th>Avg Age</th>\n",
       "      <th>Avg Purchase Amt</th>\n",
       "    </tr>\n",
       "  </thead>\n",
       "  <tbody>\n",
       "    <tr>\n",
       "      <th>37</th>\n",
       "      <td>Male</td>\n",
       "      <td>Jewelry</td>\n",
       "      <td>125</td>\n",
       "      <td>46.512000</td>\n",
       "      <td>55.248000</td>\n",
       "    </tr>\n",
       "    <tr>\n",
       "      <th>38</th>\n",
       "      <td>Male</td>\n",
       "      <td>Pants</td>\n",
       "      <td>122</td>\n",
       "      <td>42.827869</td>\n",
       "      <td>57.622951</td>\n",
       "    </tr>\n",
       "    <tr>\n",
       "      <th>40</th>\n",
       "      <td>Male</td>\n",
       "      <td>Scarf</td>\n",
       "      <td>120</td>\n",
       "      <td>44.058333</td>\n",
       "      <td>62.116667</td>\n",
       "    </tr>\n",
       "    <tr>\n",
       "      <th>30</th>\n",
       "      <td>Male</td>\n",
       "      <td>Dress</td>\n",
       "      <td>115</td>\n",
       "      <td>45.417391</td>\n",
       "      <td>57.686957</td>\n",
       "    </tr>\n",
       "    <tr>\n",
       "      <th>29</th>\n",
       "      <td>Male</td>\n",
       "      <td>Coat</td>\n",
       "      <td>113</td>\n",
       "      <td>44.610619</td>\n",
       "      <td>57.716814</td>\n",
       "    </tr>\n",
       "  </tbody>\n",
       "</table>\n",
       "</div>"
      ],
      "text/plain": [
       "   Gender Item Purchased  Instance Count    Avg Age  Avg Purchase Amt\n",
       "37   Male        Jewelry             125  46.512000         55.248000\n",
       "38   Male          Pants             122  42.827869         57.622951\n",
       "40   Male          Scarf             120  44.058333         62.116667\n",
       "30   Male          Dress             115  45.417391         57.686957\n",
       "29   Male           Coat             113  44.610619         57.716814"
      ]
     },
     "execution_count": 72,
     "metadata": {},
     "output_type": "execute_result"
    }
   ],
   "source": [
    "# Sample of df\n",
    "data_gender_item_metrics.head()"
   ]
  },
  {
   "cell_type": "code",
   "execution_count": 73,
   "metadata": {},
   "outputs": [],
   "source": [
    "# Male Item details\n",
    "data_male_item = data_gender_item_metrics.loc[data_gender_item_metrics['Gender'] == 'Male']\n",
    "data_male_item = data_male_item.sort_values(['Instance Count'], ascending=False)"
   ]
  },
  {
   "cell_type": "code",
   "execution_count": 74,
   "metadata": {},
   "outputs": [
    {
     "name": "stdout",
     "output_type": "stream",
     "text": [
      "Male Item Purchased with highest instance count along respective averages:\n"
     ]
    },
    {
     "data": {
      "text/html": [
       "<div>\n",
       "<style scoped>\n",
       "    .dataframe tbody tr th:only-of-type {\n",
       "        vertical-align: middle;\n",
       "    }\n",
       "\n",
       "    .dataframe tbody tr th {\n",
       "        vertical-align: top;\n",
       "    }\n",
       "\n",
       "    .dataframe thead th {\n",
       "        text-align: right;\n",
       "    }\n",
       "</style>\n",
       "<table border=\"1\" class=\"dataframe\">\n",
       "  <thead>\n",
       "    <tr style=\"text-align: right;\">\n",
       "      <th></th>\n",
       "      <th>Gender</th>\n",
       "      <th>Item Purchased</th>\n",
       "      <th>Instance Count</th>\n",
       "      <th>Avg Age</th>\n",
       "      <th>Avg Purchase Amt</th>\n",
       "    </tr>\n",
       "  </thead>\n",
       "  <tbody>\n",
       "    <tr>\n",
       "      <th>37</th>\n",
       "      <td>Male</td>\n",
       "      <td>Jewelry</td>\n",
       "      <td>125</td>\n",
       "      <td>46.512</td>\n",
       "      <td>55.248</td>\n",
       "    </tr>\n",
       "  </tbody>\n",
       "</table>\n",
       "</div>"
      ],
      "text/plain": [
       "   Gender Item Purchased  Instance Count  Avg Age  Avg Purchase Amt\n",
       "37   Male        Jewelry             125   46.512            55.248"
      ]
     },
     "execution_count": 74,
     "metadata": {},
     "output_type": "execute_result"
    }
   ],
   "source": [
    "# Male Item most popular is the item with the highest instance count\n",
    "print(\"Male Item Purchased with highest instance count along respective averages:\")\n",
    "data_male_item.head(1)"
   ]
  },
  {
   "cell_type": "code",
   "execution_count": 75,
   "metadata": {},
   "outputs": [
    {
     "name": "stdout",
     "output_type": "stream",
     "text": [
      "Male Item Purchased with lowest instance count along respective averages:\n"
     ]
    },
    {
     "data": {
      "text/html": [
       "<div>\n",
       "<style scoped>\n",
       "    .dataframe tbody tr th:only-of-type {\n",
       "        vertical-align: middle;\n",
       "    }\n",
       "\n",
       "    .dataframe tbody tr th {\n",
       "        vertical-align: top;\n",
       "    }\n",
       "\n",
       "    .dataframe thead th {\n",
       "        text-align: right;\n",
       "    }\n",
       "</style>\n",
       "<table border=\"1\" class=\"dataframe\">\n",
       "  <thead>\n",
       "    <tr style=\"text-align: right;\">\n",
       "      <th></th>\n",
       "      <th>Gender</th>\n",
       "      <th>Item Purchased</th>\n",
       "      <th>Instance Count</th>\n",
       "      <th>Avg Age</th>\n",
       "      <th>Avg Purchase Amt</th>\n",
       "    </tr>\n",
       "  </thead>\n",
       "  <tbody>\n",
       "    <tr>\n",
       "      <th>28</th>\n",
       "      <td>Male</td>\n",
       "      <td>Boots</td>\n",
       "      <td>89</td>\n",
       "      <td>46.123596</td>\n",
       "      <td>59.786517</td>\n",
       "    </tr>\n",
       "  </tbody>\n",
       "</table>\n",
       "</div>"
      ],
      "text/plain": [
       "   Gender Item Purchased  Instance Count    Avg Age  Avg Purchase Amt\n",
       "28   Male          Boots              89  46.123596         59.786517"
      ]
     },
     "execution_count": 75,
     "metadata": {},
     "output_type": "execute_result"
    }
   ],
   "source": [
    "# Male Item least popular is the item with the lowest instance count\n",
    "print(\"Male Item Purchased with lowest instance count along respective averages:\")\n",
    "data_male_item.tail(1)"
   ]
  },
  {
   "cell_type": "code",
   "execution_count": 76,
   "metadata": {},
   "outputs": [],
   "source": [
    "# Female Item details\n",
    "data_female_item = data_gender_item_metrics.loc[data_gender_item_metrics['Gender'] == 'Female']\n",
    "data_female_item = data_female_item.sort_values(['Instance Count'], ascending=False)"
   ]
  },
  {
   "cell_type": "code",
   "execution_count": 77,
   "metadata": {},
   "outputs": [
    {
     "name": "stdout",
     "output_type": "stream",
     "text": [
      "Female Item Purchased with highest instance count along respective averages:\n"
     ]
    },
    {
     "data": {
      "text/html": [
       "<div>\n",
       "<style scoped>\n",
       "    .dataframe tbody tr th:only-of-type {\n",
       "        vertical-align: middle;\n",
       "    }\n",
       "\n",
       "    .dataframe tbody tr th {\n",
       "        vertical-align: top;\n",
       "    }\n",
       "\n",
       "    .dataframe thead th {\n",
       "        text-align: right;\n",
       "    }\n",
       "</style>\n",
       "<table border=\"1\" class=\"dataframe\">\n",
       "  <thead>\n",
       "    <tr style=\"text-align: right;\">\n",
       "      <th></th>\n",
       "      <th>Gender</th>\n",
       "      <th>Item Purchased</th>\n",
       "      <th>Instance Count</th>\n",
       "      <th>Avg Age</th>\n",
       "      <th>Avg Purchase Amt</th>\n",
       "    </tr>\n",
       "  </thead>\n",
       "  <tbody>\n",
       "    <tr>\n",
       "      <th>2</th>\n",
       "      <td>Female</td>\n",
       "      <td>Blouse</td>\n",
       "      <td>63</td>\n",
       "      <td>42.68254</td>\n",
       "      <td>59.603175</td>\n",
       "    </tr>\n",
       "  </tbody>\n",
       "</table>\n",
       "</div>"
      ],
      "text/plain": [
       "   Gender Item Purchased  Instance Count   Avg Age  Avg Purchase Amt\n",
       "2  Female         Blouse              63  42.68254         59.603175"
      ]
     },
     "execution_count": 77,
     "metadata": {},
     "output_type": "execute_result"
    }
   ],
   "source": [
    "# Female Item most popular is the item with the highest instance count\n",
    "print(\"Female Item Purchased with highest instance count along respective averages:\")\n",
    "data_female_item.head(1)"
   ]
  },
  {
   "cell_type": "code",
   "execution_count": 78,
   "metadata": {},
   "outputs": [
    {
     "name": "stdout",
     "output_type": "stream",
     "text": [
      "Female Item Purchased with lowest instance count along respective averages:\n"
     ]
    },
    {
     "data": {
      "text/html": [
       "<div>\n",
       "<style scoped>\n",
       "    .dataframe tbody tr th:only-of-type {\n",
       "        vertical-align: middle;\n",
       "    }\n",
       "\n",
       "    .dataframe tbody tr th {\n",
       "        vertical-align: top;\n",
       "    }\n",
       "\n",
       "    .dataframe thead th {\n",
       "        text-align: right;\n",
       "    }\n",
       "</style>\n",
       "<table border=\"1\" class=\"dataframe\">\n",
       "  <thead>\n",
       "    <tr style=\"text-align: right;\">\n",
       "      <th></th>\n",
       "      <th>Gender</th>\n",
       "      <th>Item Purchased</th>\n",
       "      <th>Instance Count</th>\n",
       "      <th>Avg Age</th>\n",
       "      <th>Avg Purchase Amt</th>\n",
       "    </tr>\n",
       "  </thead>\n",
       "  <tbody>\n",
       "    <tr>\n",
       "      <th>11</th>\n",
       "      <td>Female</td>\n",
       "      <td>Jeans</td>\n",
       "      <td>28</td>\n",
       "      <td>40.107143</td>\n",
       "      <td>66.071429</td>\n",
       "    </tr>\n",
       "  </tbody>\n",
       "</table>\n",
       "</div>"
      ],
      "text/plain": [
       "    Gender Item Purchased  Instance Count    Avg Age  Avg Purchase Amt\n",
       "11  Female          Jeans              28  40.107143         66.071429"
      ]
     },
     "execution_count": 78,
     "metadata": {},
     "output_type": "execute_result"
    }
   ],
   "source": [
    "# Female Item least popular is the item with the lowest instance count\n",
    "print(\"Female Item Purchased with lowest instance count along respective averages:\")\n",
    "data_female_item.tail(1)"
   ]
  },
  {
   "cell_type": "markdown",
   "metadata": {},
   "source": [
    "# Question 8\n",
    "What sizes generate the most revenue?"
   ]
  },
  {
   "cell_type": "code",
   "execution_count": 79,
   "metadata": {},
   "outputs": [
    {
     "name": "stdout",
     "output_type": "stream",
     "text": [
      "The average Purchase amount for an XL shirt is: $60.49.\n",
      "The average Purchase amount for a L shirt is: $58.76.\n",
      "The average Purchase amount for a M shirt is: $59.61.\n",
      "The average Purchase amount for a S shirt is: $60.46.\n",
      "The size of shirt that makes the most revenue is S with $60.46\n"
     ]
    }
   ],
   "source": [
    "#RESEARCH QUESTION NUMBER 8 \n",
    "#Isolate the two columns and we want to work with.\n",
    "size_and_rev = data[['Size','Purchase Amount (USD)']]\n",
    "\n",
    "#Create a function that finds the mean of the Purchase amount column by size\n",
    "\n",
    "def size_mean(df_name, size_name, col1, col2):\n",
    "    '''\n",
    "    input: <DataFrame, String, String, String>\n",
    "    output: <Float>\n",
    "    description: this function takes a piece of the data frame and finds the mean with the columns of size and purchase amount\n",
    "    '''\n",
    "    size_df = df_name.loc[(df_name[col1] == size_name) & (df_name[col2] != np.nan)]\n",
    "    df_mean = size_df[col2].mean()\n",
    "    return df_mean\n",
    "\n",
    "#Then another function that prints a statement with the mean and size of shirt\n",
    "def print_mean_shirts(size, mean_val):\n",
    "    '''\n",
    "    input: <String, Float>\n",
    "    output: <String>\n",
    "    description: print the mean value of the different sizes of T-shirts in the dataset.\n",
    "    '''\n",
    "    if size == 'XL':\n",
    "        print(f'The average Purchase amount for an {size} shirt is: ${mean_val:.2f}.')\n",
    "    else:\n",
    "        print(f'The average Purchase amount for a {size} shirt is: ${mean_val:.2f}.')\n",
    "\n",
    "#Find the means of each size with the predetermined function\n",
    "xl_mean = size_mean(size_and_rev, 'XL', 'Size', 'Purchase Amount (USD)')\n",
    "l_mean = size_mean(size_and_rev, 'L', 'Size', 'Purchase Amount (USD)')\n",
    "m_mean = size_mean(size_and_rev, 'M', 'Size', 'Purchase Amount (USD)')\n",
    "s_mean = size_mean(size_and_rev, 'S', 'Size', 'Purchase Amount (USD)')\n",
    "\n",
    "#print the means using the constructed print function \n",
    "print_mean_shirts('XL', xl_mean)\n",
    "print_mean_shirts('L', l_mean)\n",
    "print_mean_shirts('M', m_mean)\n",
    "print_mean_shirts('S', s_mean)\n",
    "print(f'The size of shirt that makes the most revenue is S with ${s_mean:.2f}')"
   ]
  },
  {
   "cell_type": "markdown",
   "metadata": {},
   "source": [
    "# Question 9\n",
    "Does size and category (wearable type) have an impact on the review rating?"
   ]
  },
  {
   "cell_type": "markdown",
   "metadata": {},
   "source": [
    "# Q9 Analysis\n",
    "The Size and Category features as a combination don't have an impact on the Review Rating because the average Review Rating is somewhat constant across the board. The average Review Rating ranges from ~4 to 3.5 across the Category-Size paired labels which is a small range.\n",
    "\n",
    "The average Review Rating was also analyzed at the Size level and then at the Category level. There is no impact as well at these two levels because the average was constant across the board."
   ]
  },
  {
   "cell_type": "code",
   "execution_count": 80,
   "metadata": {},
   "outputs": [],
   "source": [
    "# Methodology\n",
    "# Function that:\n",
    "## 1. Group at most 2 features\n",
    "## 2. Count at grouped features\n",
    "## 3. Sum at grouped features\n",
    "## 4. Calculate average\n",
    "## 5. Output metrics dataframe"
   ]
  },
  {
   "cell_type": "code",
   "execution_count": 81,
   "metadata": {},
   "outputs": [],
   "source": [
    "def grouping_rating (f1,f2=0):\n",
    "    '''\n",
    "    Input: At most 2 categorical features (their names as strings)\n",
    "    Output: Dataframe of Average Rating Review at certain feature(s) level\n",
    "    Description: \n",
    "    - 2 Groupby dataframes are compiled at the features referenced in the input stage: (1) Sum (2) Count\n",
    "    - 2 Groupby dataframes are merged\n",
    "    - Review Rating Average is calculated\n",
    "    - Dataframe displaying the Review Rating Average is outputted\n",
    "    Example: Input the state IL, function will output IL's most purchased item and that item's average revenue\n",
    "    \n",
    "    '''\n",
    "    # list of features to group by\n",
    "    groupby_features = []\n",
    "    if f2 == 0:\n",
    "        groupby_features.append(f1)\n",
    "    else:\n",
    "        groupby_features.append(f1)\n",
    "        groupby_features.append(f2)\n",
    "    \n",
    "    # Aggregate Review Rating\n",
    "    data_rating_sum = data.groupby(groupby_features)\n",
    "    data_rating_sum = data_rating_sum.sum()\n",
    "    data_rating_sum = data_rating_sum[['Review Rating']]\n",
    "    data_rating_sum = data_rating_sum.sort_values(['Review Rating'], ascending=False)\n",
    "    \n",
    "    # Instance Count per feature(s)\n",
    "    data_count = data.groupby(groupby_features)\n",
    "    data_count = data_count.count()\n",
    "    data_count = data_count[['Customer ID']]\n",
    "    data_count = data_count.sort_values(['Customer ID'], ascending=False)\n",
    "    \n",
    "    # Merge Aggregate and Instance Count tables\n",
    "    data_rating = data_rating_sum.merge(data_count, how='outer', left_index=True, right_index=True)\n",
    "    \n",
    "    # Average Review Rating\n",
    "    data_rating['Average Review Rating'] = data_rating['Review Rating'] / data_rating['Customer ID']\n",
    "    \n",
    "    # Convert index to features to ease the readability\n",
    "    data_rating = data_rating.reset_index()\n",
    "    \n",
    "    # Retain key features and descending sort by avg Review Rating\n",
    "    data_rating_features = groupby_features\n",
    "    data_rating_features.append('Average Review Rating')\n",
    "    data_rating = data_rating[data_rating_features].sort_values(['Average Review Rating'], ascending=False)\n",
    "    \n",
    "    # Output\n",
    "    return data_rating   \n"
   ]
  },
  {
   "cell_type": "markdown",
   "metadata": {},
   "source": [
    "### Review Rating Average by Category (Wearable type) and Size"
   ]
  },
  {
   "cell_type": "code",
   "execution_count": 82,
   "metadata": {},
   "outputs": [],
   "source": [
    "# execute function\n",
    "data_2features_rating = grouping_rating('Category','Size')"
   ]
  },
  {
   "cell_type": "code",
   "execution_count": 83,
   "metadata": {},
   "outputs": [
    {
     "data": {
      "text/html": [
       "<div>\n",
       "<style scoped>\n",
       "    .dataframe tbody tr th:only-of-type {\n",
       "        vertical-align: middle;\n",
       "    }\n",
       "\n",
       "    .dataframe tbody tr th {\n",
       "        vertical-align: top;\n",
       "    }\n",
       "\n",
       "    .dataframe thead th {\n",
       "        text-align: right;\n",
       "    }\n",
       "</style>\n",
       "<table border=\"1\" class=\"dataframe\">\n",
       "  <thead>\n",
       "    <tr style=\"text-align: right;\">\n",
       "      <th></th>\n",
       "      <th>Category</th>\n",
       "      <th>Size</th>\n",
       "      <th>Average Review Rating</th>\n",
       "    </tr>\n",
       "  </thead>\n",
       "  <tbody>\n",
       "    <tr>\n",
       "      <th>15</th>\n",
       "      <td>Outerwear</td>\n",
       "      <td>XL</td>\n",
       "      <td>3.931818</td>\n",
       "    </tr>\n",
       "    <tr>\n",
       "      <th>13</th>\n",
       "      <td>Footwear</td>\n",
       "      <td>XL</td>\n",
       "      <td>3.895890</td>\n",
       "    </tr>\n",
       "    <tr>\n",
       "      <th>4</th>\n",
       "      <td>Clothing</td>\n",
       "      <td>S</td>\n",
       "      <td>3.785612</td>\n",
       "    </tr>\n",
       "    <tr>\n",
       "      <th>8</th>\n",
       "      <td>Footwear</td>\n",
       "      <td>L</td>\n",
       "      <td>3.781875</td>\n",
       "    </tr>\n",
       "    <tr>\n",
       "      <th>3</th>\n",
       "      <td>Accessories</td>\n",
       "      <td>L</td>\n",
       "      <td>3.779936</td>\n",
       "    </tr>\n",
       "    <tr>\n",
       "      <th>10</th>\n",
       "      <td>Accessories</td>\n",
       "      <td>XL</td>\n",
       "      <td>3.773759</td>\n",
       "    </tr>\n",
       "    <tr>\n",
       "      <th>7</th>\n",
       "      <td>Clothing</td>\n",
       "      <td>XL</td>\n",
       "      <td>3.771296</td>\n",
       "    </tr>\n",
       "    <tr>\n",
       "      <th>1</th>\n",
       "      <td>Accessories</td>\n",
       "      <td>M</td>\n",
       "      <td>3.767321</td>\n",
       "    </tr>\n",
       "    <tr>\n",
       "      <th>6</th>\n",
       "      <td>Accessories</td>\n",
       "      <td>S</td>\n",
       "      <td>3.764103</td>\n",
       "    </tr>\n",
       "    <tr>\n",
       "      <th>11</th>\n",
       "      <td>Footwear</td>\n",
       "      <td>S</td>\n",
       "      <td>3.761856</td>\n",
       "    </tr>\n",
       "    <tr>\n",
       "      <th>5</th>\n",
       "      <td>Footwear</td>\n",
       "      <td>M</td>\n",
       "      <td>3.744610</td>\n",
       "    </tr>\n",
       "    <tr>\n",
       "      <th>9</th>\n",
       "      <td>Outerwear</td>\n",
       "      <td>M</td>\n",
       "      <td>3.743836</td>\n",
       "    </tr>\n",
       "    <tr>\n",
       "      <th>14</th>\n",
       "      <td>Outerwear</td>\n",
       "      <td>S</td>\n",
       "      <td>3.738000</td>\n",
       "    </tr>\n",
       "    <tr>\n",
       "      <th>2</th>\n",
       "      <td>Clothing</td>\n",
       "      <td>L</td>\n",
       "      <td>3.729590</td>\n",
       "    </tr>\n",
       "    <tr>\n",
       "      <th>0</th>\n",
       "      <td>Clothing</td>\n",
       "      <td>M</td>\n",
       "      <td>3.688974</td>\n",
       "    </tr>\n",
       "    <tr>\n",
       "      <th>12</th>\n",
       "      <td>Outerwear</td>\n",
       "      <td>L</td>\n",
       "      <td>3.677320</td>\n",
       "    </tr>\n",
       "  </tbody>\n",
       "</table>\n",
       "</div>"
      ],
      "text/plain": [
       "       Category Size  Average Review Rating\n",
       "15    Outerwear   XL               3.931818\n",
       "13     Footwear   XL               3.895890\n",
       "4      Clothing    S               3.785612\n",
       "8      Footwear    L               3.781875\n",
       "3   Accessories    L               3.779936\n",
       "10  Accessories   XL               3.773759\n",
       "7      Clothing   XL               3.771296\n",
       "1   Accessories    M               3.767321\n",
       "6   Accessories    S               3.764103\n",
       "11     Footwear    S               3.761856\n",
       "5      Footwear    M               3.744610\n",
       "9     Outerwear    M               3.743836\n",
       "14    Outerwear    S               3.738000\n",
       "2      Clothing    L               3.729590\n",
       "0      Clothing    M               3.688974\n",
       "12    Outerwear    L               3.677320"
      ]
     },
     "execution_count": 83,
     "metadata": {},
     "output_type": "execute_result"
    }
   ],
   "source": [
    "data_2features_rating"
   ]
  },
  {
   "cell_type": "markdown",
   "metadata": {},
   "source": [
    "### Review Rating Average by Size"
   ]
  },
  {
   "cell_type": "code",
   "execution_count": 84,
   "metadata": {},
   "outputs": [],
   "source": [
    "# execute function\n",
    "data_size_rating = grouping_rating('Size')"
   ]
  },
  {
   "cell_type": "code",
   "execution_count": 85,
   "metadata": {},
   "outputs": [
    {
     "data": {
      "text/html": [
       "<div>\n",
       "<style scoped>\n",
       "    .dataframe tbody tr th:only-of-type {\n",
       "        vertical-align: middle;\n",
       "    }\n",
       "\n",
       "    .dataframe tbody tr th {\n",
       "        vertical-align: top;\n",
       "    }\n",
       "\n",
       "    .dataframe thead th {\n",
       "        text-align: right;\n",
       "    }\n",
       "</style>\n",
       "<table border=\"1\" class=\"dataframe\">\n",
       "  <thead>\n",
       "    <tr style=\"text-align: right;\">\n",
       "      <th></th>\n",
       "      <th>Size</th>\n",
       "      <th>Average Review Rating</th>\n",
       "    </tr>\n",
       "  </thead>\n",
       "  <tbody>\n",
       "    <tr>\n",
       "      <th>3</th>\n",
       "      <td>XL</td>\n",
       "      <td>3.800000</td>\n",
       "    </tr>\n",
       "    <tr>\n",
       "      <th>2</th>\n",
       "      <td>S</td>\n",
       "      <td>3.770865</td>\n",
       "    </tr>\n",
       "    <tr>\n",
       "      <th>1</th>\n",
       "      <td>L</td>\n",
       "      <td>3.748066</td>\n",
       "    </tr>\n",
       "    <tr>\n",
       "      <th>0</th>\n",
       "      <td>M</td>\n",
       "      <td>3.727066</td>\n",
       "    </tr>\n",
       "  </tbody>\n",
       "</table>\n",
       "</div>"
      ],
      "text/plain": [
       "  Size  Average Review Rating\n",
       "3   XL               3.800000\n",
       "2    S               3.770865\n",
       "1    L               3.748066\n",
       "0    M               3.727066"
      ]
     },
     "execution_count": 85,
     "metadata": {},
     "output_type": "execute_result"
    }
   ],
   "source": [
    "data_size_rating"
   ]
  },
  {
   "cell_type": "markdown",
   "metadata": {},
   "source": [
    "### Review Rating Average by Category (Wearable type)"
   ]
  },
  {
   "cell_type": "code",
   "execution_count": 86,
   "metadata": {},
   "outputs": [],
   "source": [
    "# execute function\n",
    "data_category_rating = grouping_rating('Category')"
   ]
  },
  {
   "cell_type": "code",
   "execution_count": 87,
   "metadata": {},
   "outputs": [
    {
     "data": {
      "text/html": [
       "<div>\n",
       "<style scoped>\n",
       "    .dataframe tbody tr th:only-of-type {\n",
       "        vertical-align: middle;\n",
       "    }\n",
       "\n",
       "    .dataframe tbody tr th {\n",
       "        vertical-align: top;\n",
       "    }\n",
       "\n",
       "    .dataframe thead th {\n",
       "        text-align: right;\n",
       "    }\n",
       "</style>\n",
       "<table border=\"1\" class=\"dataframe\">\n",
       "  <thead>\n",
       "    <tr style=\"text-align: right;\">\n",
       "      <th></th>\n",
       "      <th>Category</th>\n",
       "      <th>Average Review Rating</th>\n",
       "    </tr>\n",
       "  </thead>\n",
       "  <tbody>\n",
       "    <tr>\n",
       "      <th>2</th>\n",
       "      <td>Footwear</td>\n",
       "      <td>3.775793</td>\n",
       "    </tr>\n",
       "    <tr>\n",
       "      <th>1</th>\n",
       "      <td>Accessories</td>\n",
       "      <td>3.770616</td>\n",
       "    </tr>\n",
       "    <tr>\n",
       "      <th>3</th>\n",
       "      <td>Outerwear</td>\n",
       "      <td>3.735556</td>\n",
       "    </tr>\n",
       "    <tr>\n",
       "      <th>0</th>\n",
       "      <td>Clothing</td>\n",
       "      <td>3.725504</td>\n",
       "    </tr>\n",
       "  </tbody>\n",
       "</table>\n",
       "</div>"
      ],
      "text/plain": [
       "      Category  Average Review Rating\n",
       "2     Footwear               3.775793\n",
       "1  Accessories               3.770616\n",
       "3    Outerwear               3.735556\n",
       "0     Clothing               3.725504"
      ]
     },
     "execution_count": 87,
     "metadata": {},
     "output_type": "execute_result"
    }
   ],
   "source": [
    "data_category_rating"
   ]
  },
  {
   "cell_type": "markdown",
   "metadata": {},
   "source": [
    "# Question 10\n",
    "On average which payment methods do people spend the most money with?"
   ]
  },
  {
   "cell_type": "code",
   "execution_count": 88,
   "metadata": {},
   "outputs": [
    {
     "data": {
      "image/png": "[encoded data removed]",
      "text/plain": [
       "<Figure size 432x288 with 1 Axes>"
      ]
     },
     "metadata": {
      "needs_background": "light"
     },
     "output_type": "display_data"
    }
   ],
   "source": [
    "#Question 10 \n",
    "#On average which payment methods do people spend the most money with?\n",
    "#First isolate the columns in the data that we want to work with\n",
    "q10_data = data[['Purchase Amount (USD)', 'Payment Method']]\n",
    "#Make sure to remove any rows with NaN values\n",
    "q10_data = q10_data.dropna(axis=0)\n",
    "\n",
    "#Create a bar graph grouping the payment methods and calculating mean for each one.\n",
    "payment_means = q10_data.groupby(['Payment Method']).mean()\n",
    "payment_means.plot.bar(rot=0)\n",
    "plt.show()"
   ]
  },
  {
   "cell_type": "markdown",
   "metadata": {},
   "source": [
    "# Question 11\n",
    "What is the distribution of age when a promo code is?"
   ]
  },
  {
   "cell_type": "markdown",
   "metadata": {},
   "source": [
    "# Q11 Analysis\n",
    "The distribution seems constant across majority of the 10 bins, however the last bin displays a somewhat higher frequency than then remaining bins. The last bin covers the age range 65-70 (historgram created with 10 bins)."
   ]
  },
  {
   "cell_type": "code",
   "execution_count": 89,
   "metadata": {},
   "outputs": [],
   "source": [
    "# Filter for Promo Code = Yes\n",
    "data_promo = data.loc[data['Promo Code Used'] == 'Yes']\n",
    "\n",
    "# Extract the Age feature\n",
    "data_promo_age = np.array(data_promo['Age'])"
   ]
  },
  {
   "cell_type": "code",
   "execution_count": 90,
   "metadata": {},
   "outputs": [
    {
     "data": {
      "image/png": "[encoded data removed]",
      "text/plain": [
       "<Figure size 432x288 with 1 Axes>"
      ]
     },
     "metadata": {
      "needs_background": "light"
     },
     "output_type": "display_data"
    }
   ],
   "source": [
    "# Histogram with 10 bins\n",
    "plt.hist(data_promo_age, bins=10)\n",
    "plt.xlabel('Age')\n",
    "plt.ylabel('Promo Code Used')\n",
    "plt.title('Age Distribution used Promo Code')\n",
    "plt.grid()\n",
    "plt.show()"
   ]
  },
  {
   "cell_type": "code",
   "execution_count": null,
   "metadata": {},
   "outputs": [],
   "source": []
  },
  {
   "cell_type": "code",
   "execution_count": null,
   "metadata": {},
   "outputs": [],
   "source": []
  }
 ],
 "metadata": {
  "kernelspec": {
   "display_name": "Python 3 (ipykernel)",
   "language": "python",
   "name": "python3"
  },
  "language_info": {
   "codemirror_mode": {
    "name": "ipython",
    "version": 3
   },
   "file_extension": ".py",
   "mimetype": "text/x-python",
   "name": "python",
   "nbconvert_exporter": "python",
   "pygments_lexer": "ipython3",
   "version": "3.11.4"
  }
 },
 "nbformat": 4,
 "nbformat_minor": 4
}
